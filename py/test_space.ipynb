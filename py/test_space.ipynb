{
 "cells": [
  {
   "cell_type": "code",
   "execution_count": 1,
   "metadata": {},
   "outputs": [],
   "source": [
    "from block_id import find_blocks\n",
    "import numpy as np\n",
    "\n",
    "L=[0,0,1,1,1,0,0]\n",
    "a=np.array(L)"
   ]
  },
  {
   "cell_type": "code",
   "execution_count": 2,
   "metadata": {},
   "outputs": [
    {
     "data": {
      "text/plain": [
       "array([[2, 5]])"
      ]
     },
     "execution_count": 2,
     "metadata": {},
     "output_type": "execute_result"
    }
   ],
   "source": [
    "find_blocks(1,a)"
   ]
  },
  {
   "cell_type": "code",
   "execution_count": 1,
   "metadata": {},
   "outputs": [
    {
     "name": "stdout",
     "output_type": "stream",
     "text": [
      "(512, 4667)\n",
      "(4667,)\n"
     ]
    }
   ],
   "source": [
    "import h5py\n",
    "import numpy as np\n",
    "\n",
    "with h5py.File('3960_55663.h5', 'r') as f:\n",
    "    arr0 = f['flux']\n",
    "    print(arr0.shape)\n",
    "    flux = arr0[:]\n",
    "\n",
    "    arr1 = f['loglam']\n",
    "    print(arr1.shape)\n",
    "    loglam = arr1[:]\n",
    "    \n",
    "    arr2 = f['zans']\n",
    "    zans = arr2[:]\n",
    "    \n",
    "    arr3 = f['info']\n",
    "    x = arr3.attrs['plate']\n",
    "    \n",
    "    \n",
    "    \n",
    "    \n",
    "    "
   ]
  },
  {
   "cell_type": "code",
   "execution_count": 3,
   "metadata": {},
   "outputs": [
    {
     "data": {
      "text/plain": [
       "(512,)"
      ]
     },
     "execution_count": 3,
     "metadata": {},
     "output_type": "execute_result"
    }
   ],
   "source": [
    "zans.shape"
   ]
  },
  {
   "cell_type": "code",
   "execution_count": 6,
   "metadata": {},
   "outputs": [
    {
     "data": {
      "text/plain": [
       "array([ 3551.40334983,  3552.22118482,  3553.03920815, ...,\n",
       "       10394.41375149, 10396.80742928, 10399.20165829])"
      ]
     },
     "execution_count": 6,
     "metadata": {},
     "output_type": "execute_result"
    }
   ],
   "source": [
    "10**(loglam)"
   ]
  },
  {
   "cell_type": "code",
   "execution_count": 5,
   "metadata": {},
   "outputs": [
    {
     "data": {
      "text/plain": [
       "0.00010000000000021103"
      ]
     },
     "execution_count": 5,
     "metadata": {},
     "output_type": "execute_result"
    }
   ],
   "source": [
    "loglam[1]-loglam[0]"
   ]
  },
  {
   "cell_type": "code",
   "execution_count": 8,
   "metadata": {},
   "outputs": [
    {
     "name": "stdout",
     "output_type": "stream",
     "text": [
      "0.0002302585092994046\n"
     ]
    }
   ],
   "source": [
    "dloglam = 1e-4*np.log(10)\n",
    "print(dloglam)"
   ]
  },
  {
   "cell_type": "code",
   "execution_count": 11,
   "metadata": {},
   "outputs": [
    {
     "data": {
      "text/plain": [
       "4342.944819032517"
      ]
     },
     "execution_count": 11,
     "metadata": {},
     "output_type": "execute_result"
    }
   ],
   "source": [
    "1/dloglam"
   ]
  },
  {
   "cell_type": "code",
   "execution_count": null,
   "metadata": {},
   "outputs": [],
   "source": [
    "#dlam = wave * 1.0e-4 * np.log(10.0)"
   ]
  },
  {
   "cell_type": "code",
   "execution_count": 4,
   "metadata": {},
   "outputs": [
    {
     "data": {
      "text/plain": [
       "(512, 4667)"
      ]
     },
     "execution_count": 4,
     "metadata": {},
     "output_type": "execute_result"
    }
   ],
   "source": [
    "flux.shape"
   ]
  },
  {
   "cell_type": "code",
   "execution_count": 54,
   "metadata": {},
   "outputs": [
    {
     "data": {
      "text/plain": [
       "[0.68766606,\n",
       " 0.48894334,\n",
       " 0.5383572,\n",
       " 0.68320936,\n",
       " 0.7065783,\n",
       " 0.5369264,\n",
       " 0.50569266]"
      ]
     },
     "execution_count": 54,
     "metadata": {},
     "output_type": "execute_result"
    }
   ],
   "source": [
    "idd=[0,1,2,3,4,5,6]\n",
    "[zans[i][-9] for i in idd]"
   ]
  },
  {
   "cell_type": "code",
   "execution_count": 14,
   "metadata": {},
   "outputs": [
    {
     "data": {
      "text/plain": [
       "(512, 4667)"
      ]
     },
     "execution_count": 14,
     "metadata": {},
     "output_type": "execute_result"
    }
   ],
   "source": [
    "flux.shape"
   ]
  },
  {
   "cell_type": "code",
   "execution_count": 15,
   "metadata": {},
   "outputs": [
    {
     "data": {
      "text/plain": [
       "[<matplotlib.lines.Line2D at 0x7f35b0f77e50>]"
      ]
     },
     "execution_count": 15,
     "metadata": {},
     "output_type": "execute_result"
    },
    {
     "data": {
      "image/png": "[encoded data removed]",
      "text/plain": [
       "<Figure size 432x288 with 1 Axes>"
      ]
     },
     "metadata": {
      "needs_background": "light"
     },
     "output_type": "display_data"
    }
   ],
   "source": [
    "from matplotlib import pyplot as plt\n",
    "plt.plot(loglam,flux[0,:])"
   ]
  },
  {
   "cell_type": "code",
   "execution_count": null,
   "metadata": {},
   "outputs": [],
   "source": []
  },
  {
   "cell_type": "code",
   "execution_count": 3,
   "metadata": {},
   "outputs": [
    {
     "data": {
      "text/plain": [
       "array([0, 0, 1, 1, 1, 0, 0])"
      ]
     },
     "execution_count": 3,
     "metadata": {},
     "output_type": "execute_result"
    }
   ],
   "source": [
    "a"
   ]
  },
  {
   "cell_type": "code",
   "execution_count": 7,
   "metadata": {},
   "outputs": [
    {
     "data": {
      "text/plain": [
       "numpy.int64"
      ]
     },
     "execution_count": 7,
     "metadata": {},
     "output_type": "execute_result"
    }
   ],
   "source": [
    "type(np.argmax(a))"
   ]
  },
  {
   "cell_type": "code",
   "execution_count": null,
   "metadata": {},
   "outputs": [],
   "source": []
  },
  {
   "cell_type": "code",
   "execution_count": 9,
   "metadata": {},
   "outputs": [
    {
     "data": {
      "text/plain": [
       "1.0"
      ]
     },
     "execution_count": 9,
     "metadata": {},
     "output_type": "execute_result"
    }
   ],
   "source": [
    "xp = [1, 2, 3]\n",
    "fp = [3, 2, 0]\n",
    "np.interp(2.5, xp, fp)"
   ]
  },
  {
   "cell_type": "code",
   "execution_count": 10,
   "metadata": {},
   "outputs": [
    {
     "data": {
      "text/plain": [
       "array([3.  , 3.  , 2.5 , 0.56, 0.  ])"
      ]
     },
     "execution_count": 10,
     "metadata": {},
     "output_type": "execute_result"
    }
   ],
   "source": [
    "np.interp([0, 1, 1.5, 2.72, 3.14], xp, fp)"
   ]
  },
  {
   "cell_type": "code",
   "execution_count": 11,
   "metadata": {},
   "outputs": [
    {
     "data": {
      "text/plain": [
       "array([0, 0, 1, 1, 1, 0, 0])"
      ]
     },
     "execution_count": 11,
     "metadata": {},
     "output_type": "execute_result"
    }
   ],
   "source": [
    "a"
   ]
  },
  {
   "cell_type": "code",
   "execution_count": 14,
   "metadata": {},
   "outputs": [
    {
     "data": {
      "text/plain": [
       "array([0, 0, 1, 1, 1, 0, 0, 0, 0, 1, 1, 1, 0, 0])"
      ]
     },
     "execution_count": 14,
     "metadata": {},
     "output_type": "execute_result"
    }
   ],
   "source": [
    "np.concatenate((a,a))"
   ]
  },
  {
   "cell_type": "code",
   "execution_count": 15,
   "metadata": {},
   "outputs": [],
   "source": [
    "b=np.arange(4).reshape(2,2)"
   ]
  },
  {
   "cell_type": "code",
   "execution_count": 16,
   "metadata": {},
   "outputs": [
    {
     "data": {
      "text/plain": [
       "array([[0, 1],\n",
       "       [2, 3]])"
      ]
     },
     "execution_count": 16,
     "metadata": {},
     "output_type": "execute_result"
    }
   ],
   "source": [
    "b"
   ]
  },
  {
   "cell_type": "code",
   "execution_count": 17,
   "metadata": {},
   "outputs": [
    {
     "data": {
      "text/plain": [
       "array([[0, 1],\n",
       "       [2, 3],\n",
       "       [0, 1],\n",
       "       [2, 3]])"
      ]
     },
     "execution_count": 17,
     "metadata": {},
     "output_type": "execute_result"
    }
   ],
   "source": [
    "np.concatenate((b,b),axis=0)"
   ]
  },
  {
   "cell_type": "code",
   "execution_count": null,
   "metadata": {},
   "outputs": [],
   "source": []
  },
  {
   "cell_type": "code",
   "execution_count": 1,
   "metadata": {},
   "outputs": [
    {
     "ename": "NameError",
     "evalue": "name 'h5py' is not defined",
     "output_type": "error",
     "traceback": [
      "\u001b[0;31m---------------------------------------------------------------------------\u001b[0m",
      "\u001b[0;31mNameError\u001b[0m                                 Traceback (most recent call last)",
      "\u001b[0;32m<ipython-input-1-0333b491cc48>\u001b[0m in \u001b[0;36m<module>\u001b[0;34m()\u001b[0m\n\u001b[0;32m----> 1\u001b[0;31m \u001b[0;32mwith\u001b[0m \u001b[0mh5py\u001b[0m\u001b[0;34m.\u001b[0m\u001b[0mFile\u001b[0m\u001b[0;34m(\u001b[0m\u001b[0;34m'3960_55663.h5'\u001b[0m\u001b[0;34m,\u001b[0m \u001b[0;34m'r'\u001b[0m\u001b[0;34m)\u001b[0m \u001b[0;32mas\u001b[0m \u001b[0mf\u001b[0m\u001b[0;34m:\u001b[0m\u001b[0;34m\u001b[0m\u001b[0m\n\u001b[0m\u001b[1;32m      2\u001b[0m     \u001b[0marr0\u001b[0m \u001b[0;34m=\u001b[0m \u001b[0mf\u001b[0m\u001b[0;34m[\u001b[0m\u001b[0;34m'flux'\u001b[0m\u001b[0;34m]\u001b[0m\u001b[0;34m\u001b[0m\u001b[0m\n\u001b[1;32m      3\u001b[0m     \u001b[0;32mprint\u001b[0m\u001b[0;34m(\u001b[0m\u001b[0marr0\u001b[0m\u001b[0;34m.\u001b[0m\u001b[0mshape\u001b[0m\u001b[0;34m)\u001b[0m\u001b[0;34m\u001b[0m\u001b[0m\n\u001b[1;32m      4\u001b[0m     \u001b[0mflux\u001b[0m \u001b[0;34m=\u001b[0m \u001b[0marr0\u001b[0m\u001b[0;34m[\u001b[0m\u001b[0;34m:\u001b[0m\u001b[0;34m]\u001b[0m\u001b[0;34m\u001b[0m\u001b[0m\n\u001b[1;32m      5\u001b[0m \u001b[0;34m\u001b[0m\u001b[0m\n",
      "\u001b[0;31mNameError\u001b[0m: name 'h5py' is not defined"
     ]
    }
   ],
   "source": [
    "with h5py.File('3960_55663.h5', 'r') as f:\n",
    "    arr0 = f['flux']\n",
    "    print(arr0.shape)\n",
    "    flux = arr0[:]\n",
    "\n",
    "    arr1 = f['loglam']\n",
    "    print(arr1.shape)\n",
    "    loglam = arr1[:]\n",
    "    \n",
    "    arr2 = f['zans']\n",
    "    zans = arr2[:]\n",
    "    \n",
    "    arr3 = f['newsynflux']\n",
    "    synflux = arr3[:]\n",
    "    \n",
    "    arr4 = f['res_ivar']\n",
    "    res_ivar = arr4[:]\n",
    "    "
   ]
  },
  {
   "cell_type": "code",
   "execution_count": 62,
   "metadata": {},
   "outputs": [
    {
     "data": {
      "image/png": "[encoded data removed]",
      "text/plain": [
       "<Figure size 432x288 with 1 Axes>"
      ]
     },
     "metadata": {
      "needs_background": "light"
     },
     "output_type": "display_data"
    }
   ],
   "source": [
    "from matplotlib import pyplot as plt\n",
    "fig, ax = plt.subplots()\n",
    "ax.plot(10**loglam,flux[0,:])\n",
    "ax.plot(10**loglam,synflux[0,:])\n",
    "ax.axvspan(5000, 6000, facecolor='g', alpha=0.5)\n",
    "plt.show()"
   ]
  },
  {
   "cell_type": "code",
   "execution_count": 69,
   "metadata": {},
   "outputs": [
    {
     "data": {
      "text/plain": [
       "[<matplotlib.lines.Line2D at 0x7fcef2ee2d50>]"
      ]
     },
     "execution_count": 69,
     "metadata": {},
     "output_type": "execute_result"
    },
    {
     "data": {
      "image/png": "[encoded data removed]",
      "text/plain": [
       "<Figure size 432x288 with 1 Axes>"
      ]
     },
     "metadata": {
      "needs_background": "light"
     },
     "output_type": "display_data"
    }
   ],
   "source": [
    "plt.plot(np.equal(res_ivar[0,:],0))"
   ]
  },
  {
   "cell_type": "code",
   "execution_count": 68,
   "metadata": {},
   "outputs": [
    {
     "data": {
      "text/plain": [
       "(512, 4667)"
      ]
     },
     "execution_count": 68,
     "metadata": {},
     "output_type": "execute_result"
    }
   ],
   "source": [
    "res_ivar.shape"
   ]
  },
  {
   "cell_type": "code",
   "execution_count": 73,
   "metadata": {},
   "outputs": [],
   "source": [
    "from block_id import find_blocks\n",
    "import numpy as np\n",
    "id_mask = []\n",
    "mask = np.zeros(res_ivar.shape)\n",
    "for i in range(mask.shape[0]):\n",
    "    mask[i,:] = np.equal(res_ivar[0,:],0)\n",
    "    id_mask.append(find_blocks(1,mask[i,:] ))\n"
   ]
  },
  {
   "cell_type": "code",
   "execution_count": 82,
   "metadata": {},
   "outputs": [
    {
     "data": {
      "image/png": "[encoded data removed]",
      "text/plain": [
       "<Figure size 432x288 with 1 Axes>"
      ]
     },
     "metadata": {
      "needs_background": "light"
     },
     "output_type": "display_data"
    }
   ],
   "source": [
    "wave =10**loglam\n",
    "spec_id = 56\n",
    "from matplotlib import pyplot as plt\n",
    "fig, ax = plt.subplots()\n",
    "ax.plot(wave,flux[spec_id,:])\n",
    "ax.plot(wave,synflux[spec_id,:])\n",
    "for ind in id_mask[spec_id]:\n",
    "    id_low = ind[0]\n",
    "    id_high = ind[1]\n",
    "    if id_high >= wave.size:\n",
    "        id_high = -1\n",
    "    ax.axvspan(wave[id_low], wave[id_high], facecolor='g', alpha=0.5)\n",
    "plt.show()"
   ]
  },
  {
   "cell_type": "code",
   "execution_count": null,
   "metadata": {},
   "outputs": [],
   "source": []
  },
  {
   "cell_type": "code",
   "execution_count": null,
   "metadata": {},
   "outputs": [],
   "source": []
  },
  {
   "cell_type": "code",
   "execution_count": 1,
   "metadata": {},
   "outputs": [
    {
     "name": "stdout",
     "output_type": "stream",
     "text": [
      "(512, 4667)\n",
      "(4667,)\n"
     ]
    }
   ],
   "source": [
    "from utils import findhits_lya\n",
    "import h5py\n",
    "import numpy as np\n",
    "\n",
    "with h5py.File('3960_55663.h5', 'r') as f:\n",
    "    arr0 = f['flux']\n",
    "    print(arr0.shape)\n",
    "    flux = arr0[:]\n",
    "\n",
    "    arr1 = f['loglam']\n",
    "    print(arr1.shape)\n",
    "    loglam = arr1[:]\n",
    "    \n",
    "    arr2 = f['zans']\n",
    "    zans = arr2[:]\n",
    "    \n",
    "    arr3 = f['newsynflux']\n",
    "    synflux = arr3[:]\n",
    "    \n",
    "    arr4 = f['res_ivar']\n",
    "    res_ivar = arr4[:]"
   ]
  },
  {
   "cell_type": "code",
   "execution_count": 2,
   "metadata": {},
   "outputs": [
    {
     "data": {
      "text/plain": [
       "array([[-2.7587361 , -2.7585819 , -3.0372741 , ...,  0.44212165,\n",
       "         0.44213632,  0.44215095],\n",
       "       [-1.1408206 , -1.1407437 ,  0.06107678, ...,  2.6173046 ,\n",
       "         2.617388  ,  2.617471  ],\n",
       "       [-5.225991  , -5.225694  , -2.8209817 , ...,  3.2300143 ,\n",
       "         3.230121  ,  3.230228  ],\n",
       "       ...,\n",
       "       [-4.16861   , -4.1681037 , -4.167598  , ...,  1.8099587 ,\n",
       "         0.6452954 ,  0.64530367],\n",
       "       [ 0.44346735,  0.4434134 ,  0.44335955, ...,  0.9273812 ,\n",
       "         0.41544116,  0.4154465 ],\n",
       "       [ 0.42403668,  0.42400172,  0.42396685, ...,  0.4462734 ,\n",
       "         3.1735733 ,  3.1736286 ]], dtype=float32)"
      ]
     },
     "execution_count": 2,
     "metadata": {},
     "output_type": "execute_result"
    }
   ],
   "source": [
    "flux"
   ]
  },
  {
   "cell_type": "code",
   "execution_count": 2,
   "metadata": {},
   "outputs": [],
   "source": [
    "res = findhits_lya(resflux=flux-synflux,resivar=res_ivar,zans=zans,wave=10**loglam)"
   ]
  },
  {
   "cell_type": "code",
   "execution_count": 3,
   "metadata": {},
   "outputs": [
    {
     "data": {
      "text/plain": [
       "{'fakesn': array([[ 0.43039551,  0.71942622, -0.19851046],\n",
       "        [ 1.6056978 , -0.36712903,  0.36221932]]),\n",
       " 'fiber_hits': array([195, 695]),\n",
       " 'mjd_hits': array([111, 111], dtype=int8),\n",
       " 'peak_id': array([370, 696]),\n",
       " 'peak_sn': array([6.23691709, 7.10261043]),\n",
       " 'peak_sn_array': array([[ 1.22627539,  1.18168433,  1.09895777,  1.04515986,  1.10110737,\n",
       "          1.31768029,  1.6705888 ,  2.07980336,  2.47621826,  2.85066832,\n",
       "          3.25439923,  3.7432707 ,  4.31769695,  4.94551578,  5.60362667,\n",
       "          6.23691709,  6.70621235,  6.84968038,  6.62182083,  6.11947494,\n",
       "          5.48259753,  4.77560774,  4.02614499,  3.26263566,  2.51678589,\n",
       "          1.85014768,  1.36214168,  1.10650135,  1.03071734,  1.0046843 ,\n",
       "          0.89312684],\n",
       "        [-1.6972547 , -1.2537988 , -0.69422403, -0.17646297,  0.22506906,\n",
       "          0.54550816,  0.84751208,  1.15607471,  1.43056086,  1.63773941,\n",
       "          1.82860774,  2.11896591,  2.66254262,  3.60948129,  5.08994248,\n",
       "          7.10261043,  9.36340456, 11.2500851 , 12.12922297, 11.80927249,\n",
       "         10.49388886,  8.61228959,  6.61865039,  4.79413295,  3.25380414,\n",
       "          2.04879959,  1.1774824 ,  0.55459264,  0.03198453, -0.54215149,\n",
       "         -1.23685255]]),\n",
       " 'peak_wave': array([3867.22998119, 4168.6938347 ]),\n",
       " 'plate_hits': array([3960, 3960]),\n",
       " 'spec_id': array([ 91, 346]),\n",
       " 'z_hits': array([0.21616927, 0.59874481])}"
      ]
     },
     "execution_count": 3,
     "metadata": {},
     "output_type": "execute_result"
    }
   ],
   "source": [
    "res"
   ]
  },
  {
   "cell_type": "code",
   "execution_count": 4,
   "metadata": {},
   "outputs": [
    {
     "data": {
      "text/plain": [
       "{'fakesn': array([[ 0.43039551,  0.71942622, -0.19851046],\n",
       "        [ 1.6056978 , -0.36712903,  0.36221932]]),\n",
       " 'fiber_hits': array([195, 695]),\n",
       " 'mjd_hits': array([111, 111], dtype=int8),\n",
       " 'peak_id': array([370, 696]),\n",
       " 'peak_sn': array([6.23691709, 7.10261043]),\n",
       " 'peak_wave': array([3867.22998119, 4168.6938347 ]),\n",
       " 'plate_hits': array([3960, 3960]),\n",
       " 'spec_id': array([ 91, 346]),\n",
       " 'z_hits': array([0.21616927, 0.59874481])}"
      ]
     },
     "execution_count": 4,
     "metadata": {},
     "output_type": "execute_result"
    }
   ],
   "source": [
    "res"
   ]
  },
  {
   "cell_type": "code",
   "execution_count": 4,
   "metadata": {},
   "outputs": [
    {
     "data": {
      "image/png": "[encoded data removed]",
      "text/plain": [
       "<Figure size 432x288 with 1 Axes>"
      ]
     },
     "metadata": {
      "needs_background": "light"
     },
     "output_type": "display_data"
    }
   ],
   "source": [
    "from matplotlib import pyplot as plt\n",
    "fig,ax = plt.subplots()\n",
    "ax.plot([1,2,3])\n",
    "fig.savefig('1.png')"
   ]
  },
  {
   "cell_type": "code",
   "execution_count": 4,
   "metadata": {},
   "outputs": [
    {
     "data": {
      "image/png": "[encoded data removed]",
      "text/plain": [
       "<Figure size 432x288 with 1 Axes>"
      ]
     },
     "metadata": {
      "needs_background": "light"
     },
     "output_type": "display_data"
    }
   ],
   "source": [
    "from matplotlib import pyplot as plt\n",
    "id_hit = 0\n",
    "spec_id = res['spec_id'][id_hit]\n",
    "wave =10**loglam\n",
    "spec_id = 91\n",
    "from matplotlib import pyplot as plt\n",
    "fig, ax = plt.subplots()\n",
    "ax.plot(wave,flux[spec_id,:])\n",
    "ax.plot(wave,synflux[spec_id,:])\n",
    "ax.axvspan(res['peak_wave'][id_hit]-10, res['peak_wave'][id_hit]+10, facecolor='g', alpha=0.5)\n",
    "#ax.set_xlim(3700,4800)\n",
    "ax.set_xlim(res['peak_wave'][id_hit]-50,res['peak_wave'][id_hit]+50)\n",
    "ax.set_ylim(-5,6)\n",
    "plt.show()"
   ]
  },
  {
   "cell_type": "code",
   "execution_count": 10,
   "metadata": {},
   "outputs": [
    {
     "data": {
      "image/png": "[encoded data removed]",
      "text/plain": [
       "<Figure size 432x288 with 1 Axes>"
      ]
     },
     "metadata": {
      "needs_background": "light"
     },
     "output_type": "display_data"
    }
   ],
   "source": [
    "from matplotlib import pyplot as plt\n",
    "id_hit = 0\n",
    "spec_id = res['spec_id'][id_hit]\n",
    "wave =10**loglam\n",
    "spec_id = 91\n",
    "from matplotlib import pyplot as plt\n",
    "fig, ax = plt.subplots()\n",
    "ax.plot(res['peak_sn_array'][id_hit])\n",
    "#ax.axvspan(res['peak_wave'][id_hit]-10, res['peak_wave'][id_hit]+10, facecolor='g', alpha=0.5)\n",
    "#ax.set_xlim(3700,4800)\n",
    "#ax.set_xlim(res['peak_wave'][id_hit]-50,res['peak_wave'][id_hit]+50)\n",
    "#ax.set_ylim(-5,6)\n",
    "plt.show()"
   ]
  },
  {
   "cell_type": "code",
   "execution_count": null,
   "metadata": {},
   "outputs": [],
   "source": []
  },
  {
   "cell_type": "code",
   "execution_count": 1,
   "metadata": {},
   "outputs": [],
   "source": []
  },
  {
   "cell_type": "code",
   "execution_count": 3,
   "metadata": {},
   "outputs": [],
   "source": [
    "from utils import search_hits\n",
    "from utils import concatenate_dict\n",
    "res = search_hits('3960_55663.h5')"
   ]
  },
  {
   "cell_type": "code",
   "execution_count": 2,
   "metadata": {},
   "outputs": [
    {
     "data": {
      "text/plain": [
       "{'fakesn': array([[ 0.43039551,  0.71942622, -0.19851046],\n",
       "        [ 1.6056978 , -0.36712903,  0.36221932]]),\n",
       " 'fiber_hits': array([195, 695]),\n",
       " 'mjd_hits': array([111, 111], dtype=int8),\n",
       " 'peak_id': array([370, 696]),\n",
       " 'peak_sn': array([6.23691709, 7.10261043]),\n",
       " 'peak_wave': array([3867.22998119, 4168.6938347 ]),\n",
       " 'plate_hits': array([3960, 3960]),\n",
       " 'spec_id': array([ 91, 346]),\n",
       " 'z_hits': array([0.21616927, 0.59874481])}"
      ]
     },
     "execution_count": 2,
     "metadata": {},
     "output_type": "execute_result"
    }
   ],
   "source": [
    "res"
   ]
  },
  {
   "cell_type": "code",
   "execution_count": 4,
   "metadata": {},
   "outputs": [
    {
     "data": {
      "text/plain": [
       "{'fakesn': array([[ 0.43039551,  0.71942622, -0.19851046],\n",
       "        [ 1.6056978 , -0.36712903,  0.36221932],\n",
       "        [ 0.43039551,  0.71942622, -0.19851046],\n",
       "        [ 1.6056978 , -0.36712903,  0.36221932]]),\n",
       " 'fiber_hits': array([195, 695, 195, 695]),\n",
       " 'mjd_hits': array([111, 111, 111, 111], dtype=int8),\n",
       " 'peak_id': array([370, 696, 370, 696]),\n",
       " 'peak_sn': array([6.23691709, 7.10261043, 6.23691709, 7.10261043]),\n",
       " 'peak_wave': array([3867.22998119, 4168.6938347 , 3867.22998119, 4168.6938347 ]),\n",
       " 'plate_hits': array([3960, 3960, 3960, 3960]),\n",
       " 'spec_id': array([ 91, 346,  91, 346]),\n",
       " 'z_hits': array([0.21616927, 0.59874481, 0.21616927, 0.59874481])}"
      ]
     },
     "execution_count": 4,
     "metadata": {},
     "output_type": "execute_result"
    }
   ],
   "source": [
    "concatenate_dict(res,res)"
   ]
  },
  {
   "cell_type": "code",
   "execution_count": null,
   "metadata": {},
   "outputs": [],
   "source": []
  },
  {
   "cell_type": "code",
   "execution_count": 38,
   "metadata": {},
   "outputs": [
    {
     "data": {
      "text/plain": [
       "True"
      ]
     },
     "execution_count": 38,
     "metadata": {},
     "output_type": "execute_result"
    }
   ],
   "source": [
    "isinstance([1,2]+[1,2],list)"
   ]
  },
  {
   "cell_type": "code",
   "execution_count": 6,
   "metadata": {},
   "outputs": [],
   "source": [
    "import numpy as np\n",
    "bb= np.arange(6).reshape(2,3)"
   ]
  },
  {
   "cell_type": "code",
   "execution_count": 8,
   "metadata": {},
   "outputs": [
    {
     "data": {
      "text/plain": [
       "array([[0, 1, 2],\n",
       "       [3, 4, 5],\n",
       "       [0, 1, 2],\n",
       "       [3, 4, 5]])"
      ]
     },
     "execution_count": 8,
     "metadata": {},
     "output_type": "execute_result"
    }
   ],
   "source": [
    "np.concatenate((bb,bb))"
   ]
  },
  {
   "cell_type": "code",
   "execution_count": null,
   "metadata": {},
   "outputs": [],
   "source": []
  },
  {
   "cell_type": "code",
   "execution_count": 17,
   "metadata": {},
   "outputs": [],
   "source": [
    "cc= {'1':1,'2':2,'3':3}\n",
    "dd= {'1':'ss','2':'dsdd','3':'qqq'}"
   ]
  },
  {
   "cell_type": "code",
   "execution_count": 18,
   "metadata": {},
   "outputs": [
    {
     "data": {
      "text/plain": [
       "{'1': 1, '2': 2, '3': 3}"
      ]
     },
     "execution_count": 18,
     "metadata": {},
     "output_type": "execute_result"
    }
   ],
   "source": [
    "cc"
   ]
  },
  {
   "cell_type": "code",
   "execution_count": 22,
   "metadata": {},
   "outputs": [
    {
     "name": "stdout",
     "output_type": "stream",
     "text": [
      "(1, 'ss')\n",
      "(3, 'qqq')\n",
      "(2, 'dsdd')\n"
     ]
    }
   ],
   "source": [
    "for key in cc:\n",
    "    print(cc[key],dd[key])"
   ]
  },
  {
   "cell_type": "code",
   "execution_count": 15,
   "metadata": {},
   "outputs": [],
   "source": []
  },
  {
   "cell_type": "code",
   "execution_count": 16,
   "metadata": {},
   "outputs": [
    {
     "data": {
      "text/plain": [
       "{'1': 'ss', '2': 'dsdd'}"
      ]
     },
     "execution_count": 16,
     "metadata": {},
     "output_type": "execute_result"
    }
   ],
   "source": [
    "dd"
   ]
  },
  {
   "cell_type": "code",
   "execution_count": null,
   "metadata": {},
   "outputs": [],
   "source": [
    "dd[]"
   ]
  },
  {
   "cell_type": "code",
   "execution_count": 24,
   "metadata": {},
   "outputs": [
    {
     "name": "stdout",
     "output_type": "stream",
     "text": [
      "----\n"
     ]
    }
   ],
   "source": [
    "if dd:\n",
    "    print('----')"
   ]
  },
  {
   "cell_type": "code",
   "execution_count": null,
   "metadata": {},
   "outputs": [],
   "source": []
  },
  {
   "cell_type": "code",
   "execution_count": 31,
   "metadata": {},
   "outputs": [
    {
     "data": {
      "text/plain": [
       "True"
      ]
     },
     "execution_count": 31,
     "metadata": {},
     "output_type": "execute_result"
    }
   ],
   "source": [
    "isinstance(dd,dict)"
   ]
  },
  {
   "cell_type": "code",
   "execution_count": 35,
   "metadata": {},
   "outputs": [],
   "source": [
    "import numpy as np\n",
    "a=np.arange(3)"
   ]
  },
  {
   "cell_type": "code",
   "execution_count": 36,
   "metadata": {},
   "outputs": [
    {
     "data": {
      "text/plain": [
       "True"
      ]
     },
     "execution_count": 36,
     "metadata": {},
     "output_type": "execute_result"
    }
   ],
   "source": [
    "isinstance(a,np.ndarray)"
   ]
  },
  {
   "cell_type": "code",
   "execution_count": 39,
   "metadata": {},
   "outputs": [
    {
     "data": {
      "text/plain": [
       "{'fakesn': array([[ 0.43039551,  0.71942622, -0.19851046],\n",
       "        [ 1.6056978 , -0.36712903,  0.36221932]]),\n",
       " 'fiber_hits': array([195, 695]),\n",
       " 'mjd_hits': array([111, 111], dtype=int8),\n",
       " 'peak_id': array([370, 696]),\n",
       " 'peak_sn': array([6.23691709, 7.10261043]),\n",
       " 'peak_wave': array([3867.22998119, 4168.6938347 ]),\n",
       " 'plate_hits': array([3960, 3960]),\n",
       " 'spec_id': array([ 91, 346]),\n",
       " 'z_hits': array([0.21616927, 0.59874481])}"
      ]
     },
     "execution_count": 39,
     "metadata": {},
     "output_type": "execute_result"
    }
   ],
   "source": [
    "res"
   ]
  },
  {
   "cell_type": "code",
   "execution_count": null,
   "metadata": {},
   "outputs": [],
   "source": []
  },
  {
   "cell_type": "code",
   "execution_count": 17,
   "metadata": {},
   "outputs": [
    {
     "name": "stdout",
     "output_type": "stream",
     "text": [
      "[9.26189853 2.3516537  4.00064634 3.08511306 9.45539062]\n",
      "[2.3516537  4.00064634 3.08511306 4.00064634 3.08511306]\n"
     ]
    }
   ],
   "source": [
    "import numpy as np\n",
    "from scipy.signal import medfilt\n",
    "#a=np.arange(10)\n",
    "a=np.random.rand(5)*10\n",
    "print(a)\n",
    "print(medfilt(a,3))\n",
    "#in idl, the 0 and -1 elemetns of medfilt(a,3) is equal to a's elements"
   ]
  },
  {
   "cell_type": "code",
   "execution_count": null,
   "metadata": {},
   "outputs": [],
   "source": []
  },
  {
   "cell_type": "code",
   "execution_count": null,
   "metadata": {},
   "outputs": [],
   "source": []
  },
  {
   "cell_type": "code",
   "execution_count": 18,
   "metadata": {},
   "outputs": [
    {
     "name": "stdout",
     "output_type": "stream",
     "text": [
      "(4660,)\n",
      "(4660,)\n"
     ]
    }
   ],
   "source": [
    "fn = '/data/inspur_disk03/userdir/caoxy/eboss_lya/data/2/5017_55715.h5'\n",
    "#from utils import findhits_lya\n",
    "import h5py\n",
    "import numpy as np\n",
    "\n",
    "with h5py.File(fn, 'r') as f:\n",
    "    arr0 = f['flux']\n",
    "    print(arr0.shape)\n",
    "    flux = arr0[:]\n",
    "\n",
    "    arr1 = f['loglam']\n",
    "    print(arr1.shape)\n",
    "    loglam = arr1[:]\n",
    "    \n",
    "    arr2 = f['zans']\n",
    "    zans = arr2[:]\n",
    "    \n",
    "    arr3 = f['newsynflux']\n",
    "    synflux = arr3[:]\n",
    "    \n",
    "    arr4 = f['res_ivar']\n",
    "    res_ivar = arr4[:] "
   ]
  },
  {
   "cell_type": "code",
   "execution_count": 19,
   "metadata": {},
   "outputs": [
    {
     "data": {
      "text/plain": [
       "(4660,)"
      ]
     },
     "execution_count": 19,
     "metadata": {},
     "output_type": "execute_result"
    }
   ],
   "source": [
    "flux.shape"
   ]
  },
  {
   "cell_type": "code",
   "execution_count": 20,
   "metadata": {},
   "outputs": [
    {
     "data": {
      "text/plain": [
       "(4660,)"
      ]
     },
     "execution_count": 20,
     "metadata": {},
     "output_type": "execute_result"
    }
   ],
   "source": [
    "loglam.shape"
   ]
  },
  {
   "cell_type": "code",
   "execution_count": 21,
   "metadata": {},
   "outputs": [
    {
     "data": {
      "text/plain": [
       "(1,)"
      ]
     },
     "execution_count": 21,
     "metadata": {},
     "output_type": "execute_result"
    }
   ],
   "source": [
    "zans.shape"
   ]
  },
  {
   "cell_type": "code",
   "execution_count": 16,
   "metadata": {},
   "outputs": [
    {
     "data": {
      "text/plain": [
       "(4660,)"
      ]
     },
     "execution_count": 16,
     "metadata": {},
     "output_type": "execute_result"
    }
   ],
   "source": [
    "synflux.shape"
   ]
  },
  {
   "cell_type": "code",
   "execution_count": 1,
   "metadata": {},
   "outputs": [],
   "source": [
    "import utils as ul"
   ]
  },
  {
   "cell_type": "code",
   "execution_count": 3,
   "metadata": {},
   "outputs": [
    {
     "data": {
      "text/plain": [
       "34.53877639491069"
      ]
     },
     "execution_count": 3,
     "metadata": {},
     "output_type": "execute_result"
    }
   ],
   "source": [
    "ul.convert_dpix_to_vdisp(0.5)"
   ]
  },
  {
   "cell_type": "code",
   "execution_count": null,
   "metadata": {},
   "outputs": [],
   "source": []
  }
 ],
 "metadata": {
  "kernelspec": {
   "display_name": "Python 2",
   "language": "python",
   "name": "python2"
  },
  "language_info": {
   "codemirror_mode": {
    "name": "ipython",
    "version": 2
   },
   "file_extension": ".py",
   "mimetype": "text/x-python",
   "name": "python",
   "nbconvert_exporter": "python",
   "pygments_lexer": "ipython2",
   "version": "2.7.16"
  }
 },
 "nbformat": 4,
 "nbformat_minor": 2
}
