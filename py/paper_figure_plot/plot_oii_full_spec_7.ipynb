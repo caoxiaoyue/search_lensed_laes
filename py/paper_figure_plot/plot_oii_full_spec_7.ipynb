{
 "cells": [
  {
   "cell_type": "code",
   "execution_count": 1,
   "metadata": {},
   "outputs": [],
   "source": [
    "import numpy as np\n",
    "from matplotlib import pyplot as plt\n",
    "from astropy.table import Table\n",
    "import os\n",
    "import sys\n",
    "sys.path.append('../')\n",
    "import utils as ul\n",
    "import copy\n",
    "import pickle\n",
    "import gzip\n",
    "from scipy.signal import medfilt\n",
    "import h5py\n",
    "from scipy.stats import norm\n",
    "import time\n",
    "import pymultinest\n",
    "import json\n",
    "import copy\n",
    "font = {'family':'serif', 'size':14}\n",
    "plt.rc('font', **font)\n",
    "plt.rc('xtick', labelsize='small')\n",
    "plt.rc('ytick', labelsize='small')\n",
    "plt.rc('axes', labelsize='medium')\n",
    "\n",
    "dir0 = os.getcwd()\n",
    "\n",
    "in_dir = '/data/inspur_disk03/userdir/caoxy/eboss_lya/data/'\n",
    "lya_hits = pickle.load(gzip.open(in_dir+'lya_hits_is_oii.pzip'))\n",
    "\n",
    "\n",
    "dir1 = os.getcwd()\n",
    "os.chdir('/data/inspur_disk03/userdir/caoxy/eboss_lya/data/2')\n",
    "dir2 = os.getcwd()\n",
    "\n",
    "plate_hits = lya_hits['plate_hits']\n",
    "fiber_hits = lya_hits['fiber_hits']\n",
    "mjd_hits = lya_hits['mjd_hits']\n",
    "spec_id_hits = lya_hits['spec_id']\n",
    "peak_id_hits = lya_hits['peak_id']\n",
    "peak_wave_hits = lya_hits['peak_wave']\n",
    "peak_sn_hits = lya_hits['peak_sn']\n",
    "\n",
    "\n",
    "#os.chdir(dir0)\n",
    "for ii in range(plate_hits.size): #enumerate(plate_hits[3:4]):\n",
    "    this_plate = plate_hits[ii]\n",
    "    this_mjd = mjd_hits[ii]\n",
    "    this_fiber = fiber_hits[ii]\n",
    "    this_spec_id = spec_id_hits[ii]\n",
    "    this_peak_id = peak_id_hits[ii]\n",
    "    this_peak_wave = peak_wave_hits[ii]\n",
    "    this_peak_sn = peak_sn_hits[ii]\n",
    "    h5_file = '{}_{}.h5'.format(this_plate,this_mjd)\n",
    "    with h5py.File(h5_file, 'r') as f:\n",
    "        arr0 = f['flux']\n",
    "        flux = arr0[:]\n",
    "        \n",
    "        arr1 = f['loglam']\n",
    "        loglam = arr1[:]\n",
    "        \n",
    "        arr2 = f['zans']\n",
    "        zans = arr2[:]\n",
    "        \n",
    "        arr3 = f['newsynflux']\n",
    "        synflux = arr3[:]\n",
    "        \n",
    "        arr4 = f['res_ivar']\n",
    "        res_ivar = arr4[:]\n",
    "    \n",
    "\n",
    "    this_wave = 10**loglam\n",
    "    this_flux = flux[this_spec_id,:]\n",
    "    this_synflux = synflux[this_spec_id,:]\n",
    "    this_resflux = this_flux - this_synflux\n",
    "    this_res_ivar = res_ivar[this_spec_id,:]\n",
    "    this_sn = np.sqrt(this_resflux**2 * this_res_ivar)   \n",
    "    \n",
    "    hb_lam = 4862.683\n",
    "    o3_lam = 5008.239\n",
    "    ha_lam = 6564.614\n",
    "    o2_lam = np.sqrt(3727.092 * 3729.875)\n",
    "    z_fake = this_peak_wave/o2_lam\n",
    "    fake_lam_list = np.array([hb_lam, o3_lam, ha_lam])*z_fake\n",
    "    \n",
    "    hw=20\n",
    "    fig_f = 2\n",
    "    fig,ax = plt.subplots(figsize=(3*fig_f,2*fig_f))\n",
    "    ax.plot(this_wave,this_flux,linewidth=1.0)\n",
    "    ax.axvspan(this_wave[this_peak_id-hw], this_wave[this_peak_id+hw+1], facecolor='g', alpha=0.5)\n",
    "    \n",
    "    for lam_item in fake_lam_list:\n",
    "        ax.axvspan(lam_item-hw, lam_item+hw, facecolor='cyan', alpha=0.5)\n",
    "    \n",
    "    textstr = r'Spec-ID: {}-{}-{}'.format(this_plate,this_mjd,this_fiber)\n",
    "    ax.text(0.35, 0.95, textstr, transform=ax.transAxes, fontsize=10,\n",
    "            verticalalignment='top')\n",
    "    ax.minorticks_on()\n",
    "    ax.set_xlim(3700,9000)\n",
    "    id_tmp = np.where(np.logical_and(this_wave<4800,this_wave>3700))\n",
    "    up_lim = this_flux[id_tmp].max()*1.2\n",
    "    if this_flux[id_tmp].min() < 0:\n",
    "        low_lim = this_flux[id_tmp].min()*1.2\n",
    "    else:\n",
    "        low_lim = -0.1\n",
    "    ax.set_ylim(low_lim,up_lim)\n",
    "    ax.set_ylabel('$\\\\rm f_{\\\\lambda} \\ [10^{-17} erg cm^{-2} s^{-1} Ang^{-1}]$') #,fontsize=20\n",
    "    ax.set_xlabel(r'Observed wavelength [Ang]')\n",
    "    fig.savefig('{}/oii_spectra/{}_{}_{}.pdf'.format(dir0,this_plate,this_mjd,this_fiber),bbox_inches='tight')\n",
    "    #plt.show()\n",
    "    plt.close(fig)\n",
    "os.chdir(dir0)\n",
    "#6839_56425_781.pdf"
   ]
  },
  {
   "cell_type": "code",
   "execution_count": 7,
   "metadata": {},
   "outputs": [
    {
     "data": {
      "text/plain": [
       "['z_hits',\n",
       " 'peak_id',\n",
       " 'fakesn',\n",
       " 'mjd_hits',\n",
       " 'peak_sn',\n",
       " 'fiber_hits',\n",
       " 'peak_wave',\n",
       " 'plate_hits',\n",
       " 'spec_id']"
      ]
     },
     "execution_count": 7,
     "metadata": {},
     "output_type": "execute_result"
    }
   ],
   "source": []
  },
  {
   "cell_type": "code",
   "execution_count": 9,
   "metadata": {},
   "outputs": [
    {
     "data": {
      "text/plain": [
       "(921,)"
      ]
     },
     "execution_count": 9,
     "metadata": {},
     "output_type": "execute_result"
    }
   ],
   "source": [
    "lya_hits['peak_wave'].shape"
   ]
  },
  {
   "cell_type": "code",
   "execution_count": 4,
   "metadata": {},
   "outputs": [
    {
     "data": {
      "text/plain": [
       "<Table length=728>\n",
       "  name  dtype\n",
       "------- -----\n",
       "id@json int64\n",
       "  plate int64\n",
       "    mjd int64\n",
       "  fiber int64\n",
       "    tag  str6\n",
       "   note str35"
      ]
     },
     "execution_count": 4,
     "metadata": {},
     "output_type": "execute_result"
    }
   ],
   "source": [
    "t.info"
   ]
  },
  {
   "cell_type": "code",
   "execution_count": 3,
   "metadata": {},
   "outputs": [
    {
     "data": {
      "text/plain": [
       "array([10243, 10272, 10274, ...,  9631,  9631,  9632])"
      ]
     },
     "execution_count": 3,
     "metadata": {},
     "output_type": "execute_result"
    }
   ],
   "source": [
    "plate_list_pickle"
   ]
  },
  {
   "cell_type": "code",
   "execution_count": 7,
   "metadata": {},
   "outputs": [],
   "source": [
    "plate_hits = np.array(t['plate'])"
   ]
  },
  {
   "cell_type": "code",
   "execution_count": null,
   "metadata": {},
   "outputs": [],
   "source": []
  }
 ],
 "metadata": {
  "kernelspec": {
   "display_name": "Python 2",
   "language": "python",
   "name": "python2"
  },
  "language_info": {
   "codemirror_mode": {
    "name": "ipython",
    "version": 2
   },
   "file_extension": ".py",
   "mimetype": "text/x-python",
   "name": "python",
   "nbconvert_exporter": "python",
   "pygments_lexer": "ipython2",
   "version": "2.7.16"
  }
 },
 "nbformat": 4,
 "nbformat_minor": 4
}
