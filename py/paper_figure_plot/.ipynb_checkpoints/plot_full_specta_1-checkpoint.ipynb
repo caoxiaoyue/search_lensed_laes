{
 "cells": [
  {
   "cell_type": "code",
   "execution_count": null,
   "metadata": {},
   "outputs": [],
   "source": [
    "import numpy as np\n",
    "from matplotlib import pyplot as plt\n",
    "from astropy.table import Table\n",
    "import os\n",
    "import sys\n",
    "sys.path.append('../')\n",
    "import utils as ul\n",
    "import copy\n",
    "import pickle\n",
    "import gzip\n",
    "from scipy.signal import medfilt\n",
    "import h5py\n",
    "from scipy.stats import norm\n",
    "import time\n",
    "import pymultinest\n",
    "import json\n",
    "import copy\n",
    "font = {'family':'serif', 'size':15}\n",
    "plt.rc('font', **font)\n",
    "plt.rc('xtick', labelsize='small')\n",
    "plt.rc('ytick', labelsize='small')\n",
    "plt.rc('axes', labelsize='small')\n",
    "\n",
    "dir0 = os.getcwd()\n",
    "t = Table.read('../../data/candidate_list_nqso.csv', format='ascii.csv')\n",
    "plate_hits = t['plate'].data\n",
    "mjd_hits = t['mjd'].data\n",
    "fiber_hits = t['fiber'].data\n",
    "tag_hits = t['tag'].data\n",
    "note_hits = t['note'].data\n",
    "\n",
    "in_dir = '/data/inspur_disk03/userdir/caoxy/eboss_lya/data/'\n",
    "lya_hits = pickle.load(gzip.open(in_dir+'lya_hits_cut.pzip'))\n",
    "\n",
    "dir1 = os.getcwd()\n",
    "os.chdir('/data/inspur_disk03/userdir/caoxy/eboss_lya/data/2')\n",
    "dir2 = os.getcwd()\n",
    "\n",
    "plate_list_pickle = lya_hits['plate_hits']\n",
    "fiber_list_pickle = lya_hits['fiber_hits']\n",
    "mjd_list_pickle = lya_hits['mjd_hits']\n",
    "spec_id_list_pickle = lya_hits['spec_id']\n",
    "peak_id_list_pickle = lya_hits['peak_id']\n",
    "peak_wave_list_pickle = lya_hits['peak_wave']\n",
    "peak_sn_list_pickle = lya_hits['peak_sn']\n",
    "\n",
    "peak_wave_hits = []\n",
    "peak_sn_hits = []\n",
    "spec_id_hits = []\n",
    "peak_id_hits = []\n",
    "for ii,item in enumerate(plate_hits[:]):\n",
    "    condition = np.logical_and((plate_list_pickle==plate_hits[ii]), (mjd_list_pickle==mjd_hits[ii]))\n",
    "    condition = np.logical_and(condition, (fiber_list_pickle==fiber_hits[ii]))\n",
    "    id_pickle = np.where(condition)[0][0]\n",
    "    #print(id_pickle)\n",
    "    #print('---------')\n",
    "    #print(plate_list_pickle[id_pickle],plate_hits[ii])\n",
    "    #print(mjd_list_pickle[id_pickle],mjd_hits[ii])\n",
    "    #print(fiber_list_pickle[id_pickle],fiber_hits[ii])\n",
    "    peak_wave_hits.append(peak_wave_list_pickle[id_pickle])\n",
    "    peak_sn_hits.append(peak_sn_list_pickle[id_pickle])\n",
    "    spec_id_hits.append(spec_id_list_pickle[id_pickle])\n",
    "    peak_id_hits.append(peak_id_list_pickle[id_pickle])\n",
    "    \n",
    "peak_wave_hits = np.array(peak_wave_hits)\n",
    "peak_sn_hits = np.array(peak_sn_hits)\n",
    "spec_id_hits = np.array(spec_id_hits)\n",
    "peak_id_hits = np.array(peak_id_hits)\n",
    "\n",
    "#os.chdir(dir0)\n",
    "for ii,item in enumerate(plate_hits[:]):\n",
    "    this_plate = plate_hits[ii]\n",
    "    this_mjd = mjd_hits[ii]\n",
    "    this_fiber = fiber_hits[ii]\n",
    "    this_spec_id = spec_id_hits[ii]\n",
    "    this_peak_id = peak_id_hits[ii]\n",
    "    this_peak_wave = peak_wave_hits[ii]\n",
    "    this_peak_sn = peak_sn_hits[ii]\n",
    "    h5_file = '{}_{}.h5'.format(this_plate,this_mjd)\n",
    "    with h5py.File(h5_file, 'r') as f:\n",
    "        arr0 = f['flux']\n",
    "        flux = arr0[:]\n",
    "        \n",
    "        arr1 = f['loglam']\n",
    "        loglam = arr1[:]\n",
    "        \n",
    "        arr2 = f['zans']\n",
    "        zans = arr2[:]\n",
    "        \n",
    "        arr3 = f['newsynflux']\n",
    "        synflux = arr3[:]\n",
    "        \n",
    "        arr4 = f['res_ivar']\n",
    "        res_ivar = arr4[:]\n",
    "    \n",
    "\n",
    "    this_wave = 10**loglam\n",
    "    this_flux = flux[this_spec_id,:]\n",
    "    this_synflux = synflux[this_spec_id,:]\n",
    "    this_resflux = this_flux - this_synflux\n",
    "    this_res_ivar = res_ivar[this_spec_id,:]\n",
    "    this_sn = np.sqrt(this_resflux**2 * this_res_ivar)   \n",
    "    \n",
    "    hw=20\n",
    "    fig_f = 2\n",
    "    fig,ax = plt.subplots(figsize=(3*fig_f,2*fig_f))\n",
    "    ax.plot(this_wave,this_flux,linewidth=1.0)\n",
    "    ax.axvspan(this_wave[this_peak_id-hw], this_wave[this_peak_id+hw+1], facecolor='g', alpha=0.5)\n",
    "    textstr = r'Spec-ID: {}-{}-{}'.format(this_plate,this_mjd,this_fiber)\n",
    "    ax.text(0.35, 0.95, textstr, transform=ax.transAxes, fontsize=10,\n",
    "            verticalalignment='top')\n",
    "    ax.minorticks_on()\n",
    "    ax.set_xlim(3700,4800)\n",
    "    id_tmp = np.where(np.logical_and(this_wave<4800,this_wave>3700))\n",
    "    up_lim = this_flux[id_tmp].max()*1.2\n",
    "    if this_flux[id_tmp].min() < 0:\n",
    "        low_lim = this_flux[id_tmp].min()*1.2\n",
    "    else:\n",
    "        low_lim = -0.1\n",
    "    ax.set_ylim(low_lim,up_lim)\n",
    "    ax.set_ylabel('$\\\\rm f_{\\\\lambda} \\ [10^{-17} erg cm^{-2} s^{-1} Ang^{-1}]$') #,fontsize=20\n",
    "    ax.set_xlabel(r'Observed wavelength [Ang]')\n",
    "    fig.savefig('{}/full_spectra/{}_{}_{}.pdf'.format(dir0,this_plate,this_mjd,this_fiber),bbox_inches='tight')\n",
    "    #plt.show()\n",
    "    plt.close(fig)\n",
    "os.chdir(dir0)"
   ]
  },
  {
   "cell_type": "code",
   "execution_count": 23,
   "metadata": {},
   "outputs": [
    {
     "data": {
      "text/plain": [
       "array([10272])"
      ]
     },
     "execution_count": 23,
     "metadata": {},
     "output_type": "execute_result"
    }
   ],
   "source": [
    "plate_list_pickle[id_pickle]"
   ]
  },
  {
   "cell_type": "code",
   "execution_count": 4,
   "metadata": {},
   "outputs": [
    {
     "data": {
      "text/plain": [
       "<Table length=728>\n",
       "  name  dtype\n",
       "------- -----\n",
       "id@json int64\n",
       "  plate int64\n",
       "    mjd int64\n",
       "  fiber int64\n",
       "    tag  str6\n",
       "   note str35"
      ]
     },
     "execution_count": 4,
     "metadata": {},
     "output_type": "execute_result"
    }
   ],
   "source": [
    "t.info"
   ]
  },
  {
   "cell_type": "code",
   "execution_count": 3,
   "metadata": {},
   "outputs": [
    {
     "data": {
      "text/plain": [
       "array([10243, 10272, 10274, ...,  9631,  9631,  9632])"
      ]
     },
     "execution_count": 3,
     "metadata": {},
     "output_type": "execute_result"
    }
   ],
   "source": [
    "plate_list_pickle"
   ]
  },
  {
   "cell_type": "code",
   "execution_count": 7,
   "metadata": {},
   "outputs": [],
   "source": [
    "plate_hits = np.array(t['plate'])"
   ]
  },
  {
   "cell_type": "code",
   "execution_count": null,
   "metadata": {},
   "outputs": [],
   "source": []
  }
 ],
 "metadata": {
  "kernelspec": {
   "display_name": "Python 2",
   "language": "python",
   "name": "python2"
  },
  "language_info": {
   "codemirror_mode": {
    "name": "ipython",
    "version": 2
   },
   "file_extension": ".py",
   "mimetype": "text/x-python",
   "name": "python",
   "nbconvert_exporter": "python",
   "pygments_lexer": "ipython2",
   "version": "2.7.16"
  }
 },
 "nbformat": 4,
 "nbformat_minor": 4
}
