{
 "cells": [
  {
   "cell_type": "code",
   "execution_count": 59,
   "metadata": {},
   "outputs": [],
   "source": [
    "from astropy.table import Table\n",
    "import numpy as np\n",
    "import copy\n",
    "t = Table.read('../../data/catalog_4_no_elg.csv', format='ascii.csv')\n",
    "#t[0].as_void()\n",
    "#t['plate'].data\n",
    "\n",
    "tags = t['tag'].data\n",
    "cond_single = tags=='single'\n",
    "cond_double = tags=='double'\n",
    "\n",
    "main_skewness = t['main_skewness'].data\n",
    "condition_1 = (main_skewness>0.0)\n",
    "main_width =  t['main_width'].data\n",
    "condition_2 =  (main_width>2.0)\n",
    "\n",
    "condition_3 = np.logical_and(condition_1,condition_2)\n",
    "\n",
    "cond_res_single = np.logical_and(condition_3,cond_single)\n",
    "cond_res_double = np.logical_and(condition_3,cond_double)\n",
    "\n",
    "#for double, a seperation cut\n",
    "main_wave = t['main_wave']\n",
    "sub_wave = t['sub_wave']\n",
    "cond_seperation = (np.abs(main_wave - sub_wave)<15) #seperation of peak < 15 Angstro\n",
    "\n",
    "\n",
    "cond_res_double = np.logical_and(cond_res_double,cond_seperation)\n",
    "\n",
    "id_res_single = np.where(cond_res_single)\n",
    "id_res_double = np.where(cond_res_double)\n",
    "\n",
    "#tnew.write('../../data/catalog_2_by_plot_einstien.csv',format='ascii.csv',overwrite=True)\n",
    "t_single = copy.deepcopy(t[id_res_single])\n",
    "t_double = copy.deepcopy(t[id_res_double])"
   ]
  },
  {
   "cell_type": "code",
   "execution_count": null,
   "metadata": {},
   "outputs": [],
   "source": []
  },
  {
   "cell_type": "code",
   "execution_count": 37,
   "metadata": {},
   "outputs": [],
   "source": [
    "#CHECK \n",
    "main_skewness = t['main_skewness'].data\n",
    "condition_1 = (main_skewness>0.0)\n",
    "condition_1_tmp = (main_skewness<=1.0)\n",
    "condition_1 = np.logical_and(condition_1,condition_1_tmp)\n",
    "\n",
    "main_width =  t['main_width'].data\n",
    "condition_2 =  (main_width>2.0)\n",
    "\n",
    "condition_3 = np.logical_and(condition_1,condition_2)\n",
    "\n",
    "cond_res_single = np.logical_and(condition_3,cond_single)\n",
    "cond_res_double = np.logical_and(condition_3,cond_double)\n",
    "\n",
    "#for double, a seperation cut\n",
    "main_wave = t['main_wave']\n",
    "sub_wave = t['sub_wave']\n",
    "cond_seperation = (np.abs(main_wave - sub_wave)<15) #seperation of peak < 15 Angstro\n",
    "\n",
    "\n",
    "cond_res_double = np.logical_and(cond_res_double,cond_seperation)\n",
    "\n",
    "id_res_single_new = np.where(cond_res_single)\n",
    "id_res_double_new = np.where(cond_res_double)\n",
    "\n",
    "t_single_new = copy.deepcopy(t[id_res_single_new])\n",
    "t_double_new = copy.deepcopy(t[id_res_double_new])"
   ]
  },
  {
   "cell_type": "code",
   "execution_count": 36,
   "metadata": {},
   "outputs": [
    {
     "data": {
      "text/plain": [
       "(26,)"
      ]
     },
     "execution_count": 36,
     "metadata": {},
     "output_type": "execute_result"
    }
   ],
   "source": [
    "id_res_single_new[0].shape"
   ]
  },
  {
   "cell_type": "code",
   "execution_count": 74,
   "metadata": {},
   "outputs": [
    {
     "data": {
      "text/plain": [
       "231"
      ]
     },
     "execution_count": 74,
     "metadata": {},
     "output_type": "execute_result"
    }
   ],
   "source": [
    "t_single['plate'].data.size"
   ]
  },
  {
   "cell_type": "code",
   "execution_count": 62,
   "metadata": {},
   "outputs": [
    {
     "data": {
      "text/html": [
       "&lt;Table length=52&gt;\n",
       "<table id=\"table140039004006544\" class=\"table-striped table-bordered table-condensed\">\n",
       "<thead><tr><th>plate</th><th>mjd</th><th>fiber</th><th>tag</th><th>note</th><th>sn_peak_wave</th><th>peak_sn</th><th>spec_id</th><th>peak_id</th><th>if_multi_line</th><th>main_wave</th><th>main_skewness</th><th>main_flux</th><th>main_width</th><th>sub_wave</th><th>sub_skewness</th><th>sub_flux</th><th>sub_width</th><th>tot_flux</th><th>ra</th><th>dec</th><th>z_l</th><th>z_s</th><th>vdisp</th><th>thetaE</th><th>cmodel_mag_i</th><th>model_mag_i</th></tr></thead>\n",
       "<thead><tr><th>int64</th><th>int64</th><th>int64</th><th>str6</th><th>str35</th><th>float64</th><th>float64</th><th>int64</th><th>int64</th><th>str5</th><th>float64</th><th>float64</th><th>float64</th><th>float64</th><th>float64</th><th>float64</th><th>float64</th><th>float64</th><th>float64</th><th>float64</th><th>float64</th><th>float64</th><th>float64</th><th>float64</th><th>float64</th><th>float64</th><th>float64</th></tr></thead>\n",
       "<tr><td>11045</td><td>58485</td><td>393</td><td>double</td><td>-</td><td>3928.2579671627864</td><td>6.269503563959887</td><td>87</td><td>403</td><td>False</td><td>3928.9181177370415</td><td>6.339793708446816</td><td>9.749989130519374</td><td>2.0574400651410882</td><td>3922.179977995545</td><td>-3.195401753415723</td><td>4.671910548665778</td><td>2.176713832865599</td><td>14.42189967918515</td><td>28.096659999999986</td><td>14.2515</td><td>0.708760142326355</td><td>2.2318952657687046</td><td>272.53076171875</td><td>1.1520150322672182</td><td>20.263423919677734</td><td>20.510465621948242</td></tr>\n",
       "<tr><td>3676</td><td>55186</td><td>623</td><td>double</td><td>-</td><td>3873.468245564424</td><td>13.275563803661033</td><td>336</td><td>370</td><td>False</td><td>3873.367424210448</td><td>1.8052015295527202</td><td>38.680704060841535</td><td>2.9324692002965196</td><td>3862.465707141172</td><td>-7.82333970808026</td><td>4.052337945146794</td><td>0.397855701016074</td><td>42.733042005988324</td><td>117.06974000000002</td><td>44.934122</td><td>0.5393804311752319</td><td>2.186199728717866</td><td>206.27162170410156</td><td>0.7700127007709086</td><td>19.050111770629883</td><td>19.63178253173828</td></tr>\n",
       "<tr><td>3774</td><td>55244</td><td>457</td><td>double</td><td>-</td><td>4483.322704327328</td><td>6.4557239257732455</td><td>303</td><td>997</td><td>False</td><td>4484.456675551753</td><td>5.815214974577783</td><td>7.332723393612907</td><td>2.4168871141424875</td><td>4473.141826902451</td><td>-1.2648391096616898</td><td>11.585263405085009</td><td>6.454668909331089</td><td>18.917986798697918</td><td>169.71551999999997</td><td>-2.5840646</td><td>0.5405586361885071</td><td>2.6888766487219002</td><td>273.3108825683594</td><td>1.4300082716529465</td><td>19.74446678161621</td><td>19.8402099609375</td></tr>\n",
       "<tr><td>3865</td><td>55272</td><td>67</td><td>double</td><td>-</td><td>3894.0363387971747</td><td>30.824085715478123</td><td>39</td><td>384</td><td>False</td><td>3894.3522401634345</td><td>2.754301612615272</td><td>61.50598626301979</td><td>3.179927487570247</td><td>3885.5523927544714</td><td>-1.5209019887099267</td><td>23.681374700827668</td><td>3.309397014538955</td><td>85.18736096384747</td><td>220.83637</td><td>33.703362</td><td>0.5786678194999695</td><td>2.2034616632502524</td><td>201.92791748046875</td><td>0.7129767849419391</td><td>19.556230545043945</td><td>19.042930603027344</td></tr>\n",
       "<tr><td>3876</td><td>55245</td><td>223</td><td>double</td><td>-</td><td>4253.04521683435</td><td>8.384513983990582</td><td>129</td><td>768</td><td>False</td><td>4254.101099098128</td><td>5.215075718169988</td><td>7.494842497161929</td><td>2.6243834258265535</td><td>4248.193353734174</td><td>5.14727275872885</td><td>4.100906152827423</td><td>4.210989274156788</td><td>11.59574864998935</td><td>226.78224</td><td>30.79912</td><td>0.6195127367973328</td><td>2.49938807332428</td><td>155.20553588867188</td><td>0.4232675164878099</td><td>19.874740600585938</td><td>19.570817947387695</td></tr>\n",
       "<tr><td>3923</td><td>55325</td><td>932</td><td>double</td><td>-</td><td>4091.6643482904537</td><td>9.269431128884664</td><td>489</td><td>593</td><td>False</td><td>4092.6647781185698</td><td>4.844425689325416</td><td>15.241536125109548</td><td>3.1380725703637036</td><td>4079.805216837071</td><td>-7.375337345208733</td><td>2.9878134317727945</td><td>1.2015342064212347</td><td>18.22934955688234</td><td>240.03040999999996</td><td>14.853398</td><td>0.34164687991142273</td><td>2.36659190250526</td><td>193.7510528564453</td><td>0.8240653486879373</td><td>18.131061553955078</td><td>18.0070743560791</td></tr>\n",
       "<tr><td>3945</td><td>55648</td><td>275</td><td>double</td><td>-</td><td>3958.2206483572263</td><td>8.158354127390206</td><td>143</td><td>468</td><td>False</td><td>3958.7023860721106</td><td>8.233573292547756</td><td>12.430747966073389</td><td>2.3367582347672187</td><td>3950.3667626136285</td><td>5.431053416343591</td><td>7.950562033791107</td><td>2.348493247538227</td><td>20.381309999864495</td><td>231.07736</td><td>18.066278</td><td>0.5953454971313477</td><td>2.256395556419185</td><td>262.2822570800781</td><td>1.1939462699615515</td><td>19.4355525970459</td><td>19.521799087524414</td></tr>\n",
       "<tr><td>4005</td><td>55325</td><td>923</td><td>double</td><td>-</td><td>3807.150103801774</td><td>8.342489126396814</td><td>613</td><td>284</td><td>False</td><td>3807.990351573839</td><td>4.526837573601325</td><td>24.579799405802085</td><td>3.577146721739039</td><td>3799.2904103613096</td><td>-6.2752317617245925</td><td>5.68930557153837</td><td>1.6926712303229299</td><td>30.269104977340454</td><td>196.34081000000003</td><td>2.4568137</td><td>0.6301140785217285</td><td>2.1324210941899024</td><td>206.57615661621094</td><td>0.7013199503170336</td><td>19.433944702148438</td><td>19.496749877929688</td></tr>\n",
       "<tr><td>4397</td><td>55921</td><td>505</td><td>double</td><td>-</td><td>4241.309839104882</td><td>7.112919043863211</td><td>317</td><td>772</td><td>False</td><td>4241.94350491682</td><td>5.2264858819899835</td><td>13.537203364135664</td><td>2.5009240808308006</td><td>4235.54252159658</td><td>-5.840032262445724</td><td>2.9065132509996596</td><td>0.8627102561978325</td><td>16.443716615135322</td><td>30.10724700000003</td><td>-7.9422039</td><td>0.2579732835292816</td><td>2.489387337778196</td><td>238.05165100097656</td><td>1.3405888628708018</td><td>17.779504776000977</td><td>17.69819450378418</td></tr>\n",
       "<tr><td>4398</td><td>55946</td><td>379</td><td>double</td><td>-</td><td>4557.220055886471</td><td>9.72297550497159</td><td>263</td><td>1082</td><td>False</td><td>4557.973427289627</td><td>3.958671415554626</td><td>14.01079961403675</td><td>2.352523209464975</td><td>4549.1891160754185</td><td>-7.850602033312398</td><td>3.731679378968874</td><td>1.2592649438274737</td><td>17.742478993005626</td><td>30.672534999999982</td><td>-6.7698144</td><td>0.501986563205719</td><td>2.749350915371463</td><td>159.52723693847656</td><td>0.5048007188098799</td><td>19.403291702270508</td><td>19.404207229614258</td></tr>\n",
       "<tr><td>...</td><td>...</td><td>...</td><td>...</td><td>...</td><td>...</td><td>...</td><td>...</td><td>...</td><td>...</td><td>...</td><td>...</td><td>...</td><td>...</td><td>...</td><td>...</td><td>...</td><td>...</td><td>...</td><td>...</td><td>...</td><td>...</td><td>...</td><td>...</td><td>...</td><td>...</td><td>...</td></tr>\n",
       "<tr><td>5403</td><td>55979</td><td>51</td><td>double</td><td>-</td><td>3989.3303406008563</td><td>7.194625478802369</td><td>24</td><td>500</td><td>False</td><td>3990.0942757512084</td><td>5.090037909846675</td><td>20.218861014849686</td><td>3.3669976398266157</td><td>3980.873141063053</td><td>-8.289688432145969</td><td>8.115124753762744</td><td>1.8836446602423056</td><td>28.333985768612433</td><td>188.90403000000003</td><td>10.823062</td><td>0.6193117499351501</td><td>2.282218262975321</td><td>366.0595703125</td><td>2.2836159277106725</td><td>19.413599014282227</td><td>19.349760055541992</td></tr>\n",
       "<tr><td>5782</td><td>56272</td><td>549</td><td>double</td><td>-</td><td>3899.419866765432</td><td>8.222391656146955</td><td>321</td><td>395</td><td>False</td><td>3899.9434874479375</td><td>1.5647035758485845</td><td>18.75472597412429</td><td>2.2774437913611805</td><td>3891.690829387413</td><td>4.411674078502774</td><td>4.188701298216216</td><td>1.1818690757694676</td><td>22.943427272340504</td><td>147.74612000000002</td><td>20.38628</td><td>0.652758777141571</td><td>2.2080609766202484</td><td>281.2972717285156</td><td>1.2900410232954154</td><td>19.773000717163086</td><td>19.714841842651367</td></tr>\n",
       "<tr><td>6205</td><td>56187</td><td>591</td><td>double</td><td>-</td><td>4382.278761036717</td><td>9.577165622785767</td><td>410</td><td>902</td><td>False</td><td>4382.800837668742</td><td>4.5518081031476125</td><td>11.628205653325125</td><td>2.6048852681024672</td><td>4374.886060333097</td><td>-3.9553779293615516</td><td>2.0831304119591914</td><td>0.7133510253402966</td><td>13.711336065284316</td><td>10.637321999999983</td><td>11.520483</td><td>0.482623815536499</td><td>2.605255404565994</td><td>180.82113647460938</td><td>0.6509865030158178</td><td>19.827674865722656</td><td>19.69914436340332</td></tr>\n",
       "<tr><td>6460</td><td>56334</td><td>699</td><td>double</td><td>-</td><td>4745.696931912426</td><td>7.398129998205859</td><td>465</td><td>1247</td><td>False</td><td>4745.970671716292</td><td>6.189203573676352</td><td>8.119828830688874</td><td>2.0901981757418295</td><td>4732.956790673338</td><td>3.513451588537226</td><td>2.1811792815314144</td><td>1.220293777868723</td><td>10.30100811222029</td><td>151.97225000000003</td><td>34.238727</td><td>0.5396794080734253</td><td>2.9039958802276042</td><td>196.8799285888672</td><td>0.755842349516765</td><td>19.05701446533203</td><td>18.834184646606445</td></tr>\n",
       "<tr><td>6732</td><td>56370</td><td>859</td><td>double</td><td>-</td><td>3929.1625861305615</td><td>10.469970621628503</td><td>493</td><td>424</td><td>False</td><td>3929.504678614807</td><td>5.815800327066913</td><td>16.041700558804923</td><td>2.128758749790049</td><td>3922.3732022234726</td><td>-7.1864781492728635</td><td>2.054200358497387</td><td>0.36435048568131034</td><td>18.09590091730231</td><td>222.50752</td><td>48.308946</td><td>0.5190580487251282</td><td>2.2323777658532387</td><td>226.3267059326172</td><td>0.950653469479111</td><td>19.46969223022461</td><td>19.491439819335938</td></tr>\n",
       "<tr><td>6817</td><td>56455</td><td>897</td><td>double</td><td>-</td><td>3885.974979543936</td><td>12.325427427341342</td><td>507</td><td>368</td><td>False</td><td>3887.04331299784</td><td>9.744216318443911</td><td>31.94069793805265</td><td>3.3290302643576797</td><td>3880.573041165125</td><td>5.809089282720127</td><td>3.3693293721954545</td><td>0.8673876165778309</td><td>35.3100273102481</td><td>202.03616</td><td>61.954897</td><td>0.5310255885124207</td><td>2.197449400740201</td><td>283.1156005859375</td><td>1.4643048960632195</td><td>19.63482666015625</td><td>19.461734771728516</td></tr>\n",
       "<tr><td>7033</td><td>56565</td><td>181</td><td>double</td><td>-</td><td>3943.6648538097975</td><td>9.315145749115397</td><td>124</td><td>439</td><td>False</td><td>3943.4756759613806</td><td>0.9467070741628643</td><td>22.69444025385189</td><td>2.373549560676461</td><td>3935.7573603093947</td><td>-1.3227141538017797</td><td>4.414128396288028</td><td>1.682470837973269</td><td>27.10856865013992</td><td>358.85519</td><td>-5.3607292</td><td>0.49173590540885925</td><td>2.2438701917143473</td><td>294.3629150390625</td><td>1.6509835181897252</td><td>19.28579330444336</td><td>19.21529197692871</td></tr>\n",
       "<tr><td>7166</td><td>56602</td><td>783</td><td>double</td><td>-</td><td>4381.26982022493</td><td>12.421644088926646</td><td>433</td><td>900</td><td>False</td><td>4382.2136536515345</td><td>2.227226579809077</td><td>12.484555719577179</td><td>2.2716103564729715</td><td>4377.097498525236</td><td>3.079740885730704</td><td>4.492969423201859</td><td>5.41485947139983</td><td>16.977525142779037</td><td>358.48378</td><td>-8.5441272</td><td>0.47901955246925354</td><td>2.6047723918921535</td><td>236.98480224609375</td><td>1.121399502833753</td><td>19.276216506958008</td><td>19.299131393432617</td></tr>\n",
       "<tr><td>7843</td><td>56902</td><td>35</td><td>double</td><td>double</td><td>3824.7231102392916</td><td>6.5079094583938675</td><td>8</td><td>307</td><td>False</td><td>3825.0404492934504</td><td>5.888042517785998</td><td>12.74386141010556</td><td>2.0974591051373173</td><td>3817.8891099202006</td><td>-4.674890718534272</td><td>11.998507655155489</td><td>2.944902445279995</td><td>24.74236906526105</td><td>27.083163000000013</td><td>-0.17602018</td><td>0.6850951910018921</td><td>2.1464463623297854</td><td>722.853515625</td><td>8.151491078746416</td><td>20.793323516845703</td><td>20.54147720336914</td></tr>\n",
       "<tr><td>8182</td><td>56993</td><td>817</td><td>double</td><td>-</td><td>4296.353425698696</td><td>6.974252285473321</td><td>142</td><td>816</td><td>False</td><td>4297.909763249931</td><td>3.574775318749152</td><td>10.131930615885512</td><td>4.0060622584813705</td><td>4282.943507167307</td><td>-4.0900780053605725</td><td>1.489869946395001</td><td>0.6310253676870243</td><td>11.621800562280512</td><td>149.20394</td><td>52.741242</td><td>0.8743895888328552</td><td>2.5354247149719336</td><td>266.9379577636719</td><td>1.0053691448520437</td><td>20.616363525390625</td><td>20.574281692504883</td></tr>\n",
       "</table>"
      ],
      "text/plain": [
       "<Table length=52>\n",
       "plate  mjd  fiber ...       thetaE          cmodel_mag_i       model_mag_i    \n",
       "int64 int64 int64 ...      float64            float64            float64      \n",
       "----- ----- ----- ... ------------------ ------------------ ------------------\n",
       "11045 58485   393 ... 1.1520150322672182 20.263423919677734 20.510465621948242\n",
       " 3676 55186   623 ... 0.7700127007709086 19.050111770629883  19.63178253173828\n",
       " 3774 55244   457 ... 1.4300082716529465  19.74446678161621   19.8402099609375\n",
       " 3865 55272    67 ... 0.7129767849419391 19.556230545043945 19.042930603027344\n",
       " 3876 55245   223 ... 0.4232675164878099 19.874740600585938 19.570817947387695\n",
       " 3923 55325   932 ... 0.8240653486879373 18.131061553955078   18.0070743560791\n",
       " 3945 55648   275 ... 1.1939462699615515   19.4355525970459 19.521799087524414\n",
       " 4005 55325   923 ... 0.7013199503170336 19.433944702148438 19.496749877929688\n",
       " 4397 55921   505 ... 1.3405888628708018 17.779504776000977  17.69819450378418\n",
       " 4398 55946   379 ... 0.5048007188098799 19.403291702270508 19.404207229614258\n",
       "  ...   ...   ... ...                ...                ...                ...\n",
       " 5403 55979    51 ... 2.2836159277106725 19.413599014282227 19.349760055541992\n",
       " 5782 56272   549 ... 1.2900410232954154 19.773000717163086 19.714841842651367\n",
       " 6205 56187   591 ... 0.6509865030158178 19.827674865722656  19.69914436340332\n",
       " 6460 56334   699 ...  0.755842349516765  19.05701446533203 18.834184646606445\n",
       " 6732 56370   859 ...  0.950653469479111  19.46969223022461 19.491439819335938\n",
       " 6817 56455   897 ... 1.4643048960632195  19.63482666015625 19.461734771728516\n",
       " 7033 56565   181 ... 1.6509835181897252  19.28579330444336  19.21529197692871\n",
       " 7166 56602   783 ...  1.121399502833753 19.276216506958008 19.299131393432617\n",
       " 7843 56902    35 ...  8.151491078746416 20.793323516845703  20.54147720336914\n",
       " 8182 56993   817 ... 1.0053691448520437 20.616363525390625 20.574281692504883"
      ]
     },
     "execution_count": 62,
     "metadata": {},
     "output_type": "execute_result"
    }
   ],
   "source": [
    "t_double"
   ]
  },
  {
   "cell_type": "code",
   "execution_count": null,
   "metadata": {},
   "outputs": [],
   "source": [
    "#change to single tag\n",
    "#10753\t58242\t289\n",
    "#4222\t55444\t399\n",
    "#4749\t55633\t729\n",
    "#5205\t56040\t279\t\n",
    "#6671\t56388\t671\n",
    "#6732\t56370\t875"
   ]
  },
  {
   "cell_type": "code",
   "execution_count": null,
   "metadata": {},
   "outputs": [],
   "source": [
    "#double remove below,other change to  single\n",
    "#single remove nothing\n",
    "#remove 4373\t55811\t336\t\n",
    "#remove 6732\t56370\t875\n",
    "#4665\t56209\t837"
   ]
  },
  {
   "cell_type": "code",
   "execution_count": null,
   "metadata": {},
   "outputs": [],
   "source": [
    "#4657-55591-602范围太小\n",
    "#4723-56033-445"
   ]
  },
  {
   "cell_type": "code",
   "execution_count": 52,
   "metadata": {},
   "outputs": [
    {
     "data": {
      "text/plain": [
       "<Table length=52>\n",
       "     name      dtype \n",
       "------------- -------\n",
       "        plate   int64\n",
       "          mjd   int64\n",
       "        fiber   int64\n",
       "          tag    str6\n",
       "         note   str35\n",
       " sn_peak_wave float64\n",
       "      peak_sn float64\n",
       "      spec_id   int64\n",
       "      peak_id   int64\n",
       "if_multi_line    str5\n",
       "    main_wave float64\n",
       "main_skewness float64\n",
       "    main_flux float64\n",
       "   main_width float64\n",
       "     sub_wave float64\n",
       " sub_skewness float64\n",
       "     sub_flux float64\n",
       "    sub_width float64\n",
       "     tot_flux float64\n",
       "           ra float64\n",
       "          dec float64\n",
       "          z_l float64\n",
       "          z_s float64\n",
       "        vdisp float64\n",
       "       thetaE float64\n",
       " cmodel_mag_i float64\n",
       "  model_mag_i float64"
      ]
     },
     "execution_count": 52,
     "metadata": {},
     "output_type": "execute_result"
    }
   ],
   "source": [
    "t_double.info"
   ]
  },
  {
   "cell_type": "code",
   "execution_count": 63,
   "metadata": {},
   "outputs": [],
   "source": [
    "import os\n",
    "def copy_image(in_folder=None,out_folder=None,t=None):\n",
    "    plate = t['plate'].data\n",
    "    mjd = t['mjd'].data\n",
    "    fiber = t['fiber'].data\n",
    "    for i in range(len(list(plate))):\n",
    "        cmd = 'cp ./{}/{}_{}_{}.pdf ./{}/'.format(in_folder,plate[i],mjd[i],fiber[i],out_folder)\n",
    "        os.system(cmd)"
   ]
  },
  {
   "cell_type": "code",
   "execution_count": 64,
   "metadata": {},
   "outputs": [],
   "source": [
    "#write the final table catalog\n",
    "t_single.write('./final_spec/single_cut_with_skew_width.csv',format='ascii.csv',overwrite=True)\n",
    "t_double.write('./final_spec/double_cut_with_skew_width.csv',format='ascii.csv',overwrite=True)\n",
    "\n",
    "#copy single/double zoomed specrum \n",
    "copy_image(in_folder='plot_zoomed_spectra',out_folder='final_spec/zoomed/single',t=t_single)\n",
    "copy_image(in_folder='plot_zoomed_spectra',out_folder='final_spec/zoomed/double',t=t_double)\n",
    "\n",
    "#copy  single/double spectrum\n",
    "copy_image(in_folder='full_spectra',out_folder='final_spec/all/single',t=t_single)\n",
    "copy_image(in_folder='full_spectra',out_folder='final_spec/all/double',t=t_double)"
   ]
  },
  {
   "cell_type": "code",
   "execution_count": 43,
   "metadata": {},
   "outputs": [],
   "source": [
    "#Fallback\n",
    "#write the table catalog with skeness 0.0<skew<1.0\n",
    "t_single_new.write('./final_spec/single_skew_fallback.csv',format='ascii.csv',overwrite=True)\n",
    "t_double_new.write('./final_spec/double_skew_fallback.csv',format='ascii.csv',overwrite=True)"
   ]
  },
  {
   "cell_type": "code",
   "execution_count": 8,
   "metadata": {},
   "outputs": [
    {
     "data": {
      "text/plain": [
       "266"
      ]
     },
     "execution_count": 8,
     "metadata": {},
     "output_type": "execute_result"
    }
   ],
   "source": [
    "id_res[0].size"
   ]
  },
  {
   "cell_type": "code",
   "execution_count": 2,
   "metadata": {},
   "outputs": [],
   "source": [
    "import sys\n",
    "sys.path.append('../')\n",
    "import utils as ul\n",
    "\n",
    "ref_obs_sep  = ul.convert_vdisp_to_dpix(1000)\n",
    "ref_rest_sep = ref_obs_sep/(1+3.1)"
   ]
  },
  {
   "cell_type": "code",
   "execution_count": 3,
   "metadata": {},
   "outputs": [
    {
     "data": {
      "text/plain": [
       "12.357973062287652"
      ]
     },
     "execution_count": 3,
     "metadata": {},
     "output_type": "execute_result"
    }
   ],
   "source": [
    "ref_rest_sep*(1+2.5)"
   ]
  },
  {
   "cell_type": "code",
   "execution_count": 6,
   "metadata": {},
   "outputs": [
    {
     "data": {
      "text/plain": [
       "7.0616988927358015"
      ]
     },
     "execution_count": 6,
     "metadata": {},
     "output_type": "execute_result"
    }
   ],
   "source": [
    "ref_obs_sep  = ul.convert_vdisp_to_dpix(500)\n",
    "ref_rest_sep = ref_obs_sep/(1+3.1)\n",
    "ref_rest_sep*(1+3.0)"
   ]
  },
  {
   "cell_type": "code",
   "execution_count": null,
   "metadata": {},
   "outputs": [],
   "source": []
  }
 ],
 "metadata": {
  "kernelspec": {
   "display_name": "Python 2",
   "language": "python",
   "name": "python2"
  },
  "language_info": {
   "codemirror_mode": {
    "name": "ipython",
    "version": 2
   },
   "file_extension": ".py",
   "mimetype": "text/x-python",
   "name": "python",
   "nbconvert_exporter": "python",
   "pygments_lexer": "ipython2",
   "version": "2.7.16"
  }
 },
 "nbformat": 4,
 "nbformat_minor": 2
}
