{
 "cells": [
  {
   "cell_type": "code",
   "execution_count": 40,
   "metadata": {},
   "outputs": [],
   "source": [
    "import json \n",
    "import re\n",
    "import os\n",
    "import numpy as np\n",
    "from astropy.table import Table\n",
    "from astropy.io import ascii\n",
    "import h5py\n",
    "import sys\n",
    "sys.path.append('../')\n",
    "import utils as ul\n",
    "\n",
    "#this block read the info, and do cutting\n",
    "dir0 = os.getcwd()\n",
    "t = Table.read('../../data/catalog_3_by_plot_einstien.csv', format='ascii.csv')\n",
    "\n",
    "plate_all = t['plate'].data\n",
    "mjd_all = t['mjd'].data\n",
    "fiber_all = t['fiber'].data"
   ]
  },
  {
   "cell_type": "code",
   "execution_count": null,
   "metadata": {},
   "outputs": [],
   "source": []
  },
  {
   "cell_type": "code",
   "execution_count": 47,
   "metadata": {},
   "outputs": [
    {
     "name": "stdout",
     "output_type": "stream",
     "text": [
      "read 1 file\n",
      "read 101 file\n",
      "read 201 file\n",
      "read 301 file\n",
      "read 401 file\n",
      "read 501 file\n",
      "read 601 file\n"
     ]
    }
   ],
   "source": [
    "import h5py\n",
    "base_dir = '../../data/2/'\n",
    "id_no_elg = []\n",
    "for ii in range(len(plate_all)): #\n",
    "    #ii = len(plate_all)-1\n",
    "    file_name = '{}_{}.h5'.format(plate_all[ii],mjd_all[ii])\n",
    "    h5_file = base_dir+file_name\n",
    "    with h5py.File(h5_file, 'r') as f:\n",
    "        arr = f['zans']\n",
    "        plug = f['plug']\n",
    "        zans_arr = arr[:]\n",
    "        plug_arr = plug[:]\n",
    "    #print('file {} read finished'.format(file_name))\n",
    "    fibers = np.array([item[3] for item in zans_arr],dtype=np.int)  #refer to below to find index, Note index-1 !!!\n",
    "    id_fiber = np.where(fibers == int(fiber_all[ii]))\n",
    "    \n",
    "    #extract the structure which save the spectrum info\n",
    "    struct = zans_arr[id_fiber][0]\n",
    "    plug_struct = plug_arr[id_fiber][0]\n",
    "    #save some info\n",
    "    #ra = struct[8]\n",
    "    #dec = struct[9]\n",
    "    #print(ra,dec)\\\n",
    "    #z_l = struct[12]\n",
    "    #vdisp = struct[22]\n",
    "    #still need \n",
    "    #1. i-band magnitude\n",
    "    #2. sn of peak/second peak\n",
    "    #3. einstein radius\n",
    "    #4. wavelength of peak \n",
    "    src_type = plug_struct[18]\n",
    "    src_type = src_type.replace(' ', '')\n",
    "    \n",
    "    if ii%100 == 1:\n",
    "        print('read {} file'.format(ii))\n",
    "        \n",
    "    if src_type != 'ELG':\n",
    "        id_no_elg.append(ii)\n",
    "\n",
    "tnew = t[id_no_elg]\n",
    "tnew.write('../../data/catalog_4_no_elg.csv',format='ascii.csv',overwrite=True)"
   ]
  },
  {
   "cell_type": "raw",
   "metadata": {},
   "source": [
    "   PLATE           LONG             10243\n",
    "   TILE            LONG             16233\n",
    "   MJD             LONG             58159\n",
    "   FIBERID         LONG              1000\n",
    "   RUN2D           STRING    'v5_13_0'\n",
    "   RUN1D           STRING    'v5_13_0'\n",
    "   OBJID           LONG      Array[5]\n",
    "   OBJTYPE         STRING    'QSO             '\n",
    "   PLUG_RA         DOUBLE           140.95719\n",
    "   PLUG_DEC        DOUBLE           35.319402\n",
    "   CLASS           STRING    'QSO   '\n",
    "   SUBCLASS        STRING    '                   '\n",
    "   Z               FLOAT           1.34611\n",
    "   Z_ERR           FLOAT       0.000236797\n",
    "   RCHI2           FLOAT          0.998443\n",
    "   DOF             LONG              4529\n",
    "   RCHI2DIFF       FLOAT        0.00256312\n",
    "   TFILE           STRING    'spEigenQSO-55732.fits   '\n",
    "   TCOLUMN         LONG      Array[10]\n",
    "   NPOLY           LONG                 3\n",
    "   THETA           FLOAT     Array[10]\n",
    "   THETA_COVAR     FLOAT     Array[10, 10]\n",
    "   VDISP           FLOAT           0.00000\n",
    "   VDISP_ERR       FLOAT           0.00000\n",
    "   VDISPZ          FLOAT           0.00000\n",
    "   VDISPZ_ERR      FLOAT           0.00000\n",
    "   VDISPCHI2       FLOAT           0.00000\n",
    "   VDISPNPIX       FLOAT           0.00000\n",
    "   VDISPDOF        LONG                 0\n",
    "   WAVEMIN         FLOAT           3601.64\n",
    "   WAVEMAX         FLOAT           10368.1\n",
    "   WCOVERAGE       FLOAT          0.453600\n",
    "   ZWARNING        LONG                 4\n",
    "   SN_MEDIAN       FLOAT     Array[5]\n",
    "   SN_MEDIAN_ALL   FLOAT          0.942090\n",
    "   CHI68P          FLOAT          0.970984\n",
    "   FRACNSIGMA      FLOAT     Array[10]\n",
    "   FRACNSIGHI      FLOAT     Array[10]\n",
    "   FRACNSIGLO      FLOAT     Array[10]\n",
    "   SPECTROFLUX     FLOAT     Array[5]\n",
    "   SPECTROFLUX_IVAR\n",
    "                   FLOAT     Array[5]\n",
    "   SPECTROSYNFLUX  FLOAT     Array[5]\n",
    "   SPECTROSYNFLUX_IVAR\n",
    "                   FLOAT     Array[5]\n",
    "   SPECTROSKYFLUX  FLOAT     Array[5]\n",
    "   ANYANDMASK      LONG          92274688\n",
    "   ANYORMASK       LONG         265224192\n",
    "   SPEC1_G         FLOAT           12.3442\n",
    "   SPEC1_R         FLOAT           35.5222\n",
    "   SPEC1_I         FLOAT           29.6720"
   ]
  },
  {
   "cell_type": "raw",
   "metadata": {},
   "source": [
    "   OBJID           LONG      Array[5]\n",
    "   HOLETYPE        STRING    'OBJECT'\n",
    "   RA              DOUBLE           144.50975\n",
    "   DEC             DOUBLE           21.193972\n",
    "   MAG             FLOAT     Array[5]\n",
    "   STARL           FLOAT           0.00000\n",
    "   EXPL            FLOAT           0.00000\n",
    "   DEVAUCL         FLOAT           0.00000\n",
    "   OBJTYPE         STRING    'GALAXY          '\n",
    "   XFOCAL          DOUBLE           227.19944\n",
    "   YFOCAL          DOUBLE           135.40008\n",
    "   SPECTROGRAPHID  LONG                 2\n",
    "   FIBERID         LONG               941\n",
    "   THROUGHPUT      LONG             23771\n",
    "   PRIMTARGET      LONG                 0\n",
    "   SECTARGET       LONG                 0\n",
    "   OFFSETID        LONG                 1\n",
    "   SCI_EXPTIME     FLOAT           0.00000\n",
    "   SOURCETYPE      STRING    'ELG             '\n",
    "   LAMBDA_EFF      FLOAT           7500.00\n",
    "   ZOFFSET         FLOAT           0.00000\n",
    "   BLUEFIBER       LONG                 1\n",
    "   BOSS_TARGET1    LONG64                         0\n",
    "   BOSS_TARGET2    LONG64                         0\n",
    "   ANCILLARY_TARGET1\n",
    "                   LONG64                         0\n",
    "   ANCILLARY_TARGET2\n",
    "                   LONG64                         0\n",
    "   EBOSS_TARGET0   LONG64                         0\n",
    "   EBOSS_TARGET1   LONG64            17592186044416\n",
    "   EBOSS_TARGET2   LONG64           562949953421312\n",
    "   EBOSS_TARGET_ID LONG64                  29058008\n",
    "   THING_ID_TARGETING\n",
    "                   LONG                 0\n",
    "   RUN             LONG                 0\n",
    "   RERUN           STRING    '    '\n",
    "   CAMCOL          LONG                 0\n",
    "   FIELD           LONG                 0\n",
    "   ID              LONG                 0\n",
    "   CALIBFLUX       FLOAT     Array[5]\n",
    "   CALIBFLUX_IVAR  FLOAT     Array[5]\n",
    "   CALIB_STATUS    LONG      Array[5]\n",
    "   SFD_EBV         FLOAT         0.0253791"
   ]
  },
  {
   "cell_type": "code",
   "execution_count": 15,
   "metadata": {},
   "outputs": [],
   "source": [
    "from astropy.table import Table\n",
    "t = Table([(2, 3, 2, 1), (8, 7, 6, 5)], names=('a', 'b'))\n",
    "t.add_index('a')"
   ]
  },
  {
   "cell_type": "code",
   "execution_count": 16,
   "metadata": {},
   "outputs": [
    {
     "data": {
      "text/html": [
       "&lt;Table length=4&gt;\n",
       "<table id=\"table140290263936976\" class=\"table-striped table-bordered table-condensed\">\n",
       "<thead><tr><th>a</th><th>b</th></tr></thead>\n",
       "<thead><tr><th>int64</th><th>int64</th></tr></thead>\n",
       "<tr><td>2</td><td>8</td></tr>\n",
       "<tr><td>3</td><td>7</td></tr>\n",
       "<tr><td>2</td><td>6</td></tr>\n",
       "<tr><td>1</td><td>5</td></tr>\n",
       "</table>"
      ],
      "text/plain": [
       "<Table length=4>\n",
       "  a     b  \n",
       "int64 int64\n",
       "----- -----\n",
       "    2     8\n",
       "    3     7\n",
       "    2     6\n",
       "    1     5"
      ]
     },
     "execution_count": 16,
     "metadata": {},
     "output_type": "execute_result"
    }
   ],
   "source": [
    "t"
   ]
  },
  {
   "cell_type": "code",
   "execution_count": 19,
   "metadata": {},
   "outputs": [
    {
     "data": {
      "text/html": [
       "&lt;Column name=&apos;a&apos; dtype=&apos;int64&apos; length=4&gt;\n",
       "<table>\n",
       "<tr><td>2</td></tr>\n",
       "<tr><td>3</td></tr>\n",
       "<tr><td>2</td></tr>\n",
       "<tr><td>1</td></tr>\n",
       "</table>"
      ],
      "text/plain": [
       "<Column name='a' dtype='int64' length=4>\n",
       "2\n",
       "3\n",
       "2\n",
       "1"
      ]
     },
     "execution_count": 19,
     "metadata": {},
     "output_type": "execute_result"
    }
   ],
   "source": [
    "t['a']"
   ]
  },
  {
   "cell_type": "code",
   "execution_count": 30,
   "metadata": {},
   "outputs": [],
   "source": [
    "xx = t[0:2]"
   ]
  },
  {
   "cell_type": "code",
   "execution_count": 31,
   "metadata": {},
   "outputs": [
    {
     "data": {
      "text/plain": [
       "['a', 'b']"
      ]
     },
     "execution_count": 31,
     "metadata": {},
     "output_type": "execute_result"
    }
   ],
   "source": [
    "xx.colnames"
   ]
  },
  {
   "cell_type": "code",
   "execution_count": 33,
   "metadata": {},
   "outputs": [
    {
     "data": {
      "text/html": [
       "&lt;Table length=2&gt;\n",
       "<table id=\"table140291014558032\" class=\"table-striped table-bordered table-condensed\">\n",
       "<thead><tr><th>a</th><th>b</th></tr></thead>\n",
       "<thead><tr><th>int64</th><th>int64</th></tr></thead>\n",
       "<tr><td>2</td><td>8</td></tr>\n",
       "<tr><td>3</td><td>7</td></tr>\n",
       "</table>"
      ],
      "text/plain": [
       "<Table length=2>\n",
       "  a     b  \n",
       "int64 int64\n",
       "----- -----\n",
       "    2     8\n",
       "    3     7"
      ]
     },
     "execution_count": 33,
     "metadata": {},
     "output_type": "execute_result"
    }
   ],
   "source": [
    "xx"
   ]
  },
  {
   "cell_type": "code",
   "execution_count": 35,
   "metadata": {},
   "outputs": [],
   "source": [
    "yy = t[0]"
   ]
  },
  {
   "cell_type": "code",
   "execution_count": 36,
   "metadata": {},
   "outputs": [
    {
     "data": {
      "text/plain": [
       "(2, 8)"
      ]
     },
     "execution_count": 36,
     "metadata": {},
     "output_type": "execute_result"
    }
   ],
   "source": [
    "yy.as_void()"
   ]
  },
  {
   "cell_type": "code",
   "execution_count": 37,
   "metadata": {},
   "outputs": [],
   "source": [
    "idx = np.array([0,2])"
   ]
  },
  {
   "cell_type": "code",
   "execution_count": 38,
   "metadata": {},
   "outputs": [
    {
     "data": {
      "text/html": [
       "&lt;Table length=2&gt;\n",
       "<table id=\"table140291014561104\" class=\"table-striped table-bordered table-condensed\">\n",
       "<thead><tr><th>a</th><th>b</th></tr></thead>\n",
       "<thead><tr><th>int64</th><th>int64</th></tr></thead>\n",
       "<tr><td>2</td><td>8</td></tr>\n",
       "<tr><td>2</td><td>6</td></tr>\n",
       "</table>"
      ],
      "text/plain": [
       "<Table length=2>\n",
       "  a     b  \n",
       "int64 int64\n",
       "----- -----\n",
       "    2     8\n",
       "    2     6"
      ]
     },
     "execution_count": 38,
     "metadata": {},
     "output_type": "execute_result"
    }
   ],
   "source": [
    "t[idx]"
   ]
  },
  {
   "cell_type": "code",
   "execution_count": 39,
   "metadata": {},
   "outputs": [
    {
     "data": {
      "text/html": [
       "&lt;Table length=2&gt;\n",
       "<table id=\"table140290263634384\" class=\"table-striped table-bordered table-condensed\">\n",
       "<thead><tr><th>a</th><th>b</th></tr></thead>\n",
       "<thead><tr><th>int64</th><th>int64</th></tr></thead>\n",
       "<tr><td>2</td><td>8</td></tr>\n",
       "<tr><td>2</td><td>6</td></tr>\n",
       "</table>"
      ],
      "text/plain": [
       "<Table length=2>\n",
       "  a     b  \n",
       "int64 int64\n",
       "----- -----\n",
       "    2     8\n",
       "    2     6"
      ]
     },
     "execution_count": 39,
     "metadata": {},
     "output_type": "execute_result"
    }
   ],
   "source": [
    "idy = [0,2]\n",
    "t[idy]"
   ]
  },
  {
   "cell_type": "code",
   "execution_count": null,
   "metadata": {},
   "outputs": [],
   "source": []
  }
 ],
 "metadata": {
  "kernelspec": {
   "display_name": "Python 2",
   "language": "python",
   "name": "python2"
  },
  "language_info": {
   "codemirror_mode": {
    "name": "ipython",
    "version": 2
   },
   "file_extension": ".py",
   "mimetype": "text/x-python",
   "name": "python",
   "nbconvert_exporter": "python",
   "pygments_lexer": "ipython2",
   "version": "2.7.16"
  }
 },
 "nbformat": 4,
 "nbformat_minor": 4
}
