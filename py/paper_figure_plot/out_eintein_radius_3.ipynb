{
 "cells": [
  {
   "cell_type": "code",
   "execution_count": 13,
   "metadata": {},
   "outputs": [],
   "source": [
    "#read the vdip,ra,dec,z_l from zans info\n",
    "#also slect a subsample, using skewness/sn...., create a folder to save spectra/zoomed spectra....\n",
    "#write catalog with info, [plate,fiber,mjd,z_lens,z_src,wave_main,wave_sub, flux_total, einstein_radius, ra, dec, skewness, width, flux_main, flux_sub, tag, note]  \n",
    "#mag_i !!!! still need this"
   ]
  },
  {
   "cell_type": "code",
   "execution_count": 2,
   "metadata": {},
   "outputs": [
    {
     "name": "stdout",
     "output_type": "stream",
     "text": [
      "read 1 file\n",
      "read 101 file\n",
      "read 201 file\n",
      "read 301 file\n",
      "read 401 file\n",
      "read 501 file\n",
      "read 601 file\n"
     ]
    }
   ],
   "source": [
    "import json \n",
    "import re\n",
    "import os\n",
    "import numpy as np\n",
    "from astropy.table import Table\n",
    "from astropy.io import ascii\n",
    "import h5py\n",
    "import sys\n",
    "sys.path.append('../')\n",
    "import utils as ul\n",
    "\n",
    "#this block read the info, and do cutting\n",
    "dir0 = os.getcwd()\n",
    "t = Table.read('../../data/catalog_1_by_zoomed_spectra.csv', format='ascii.csv')\n",
    "#index_all = t['id@json'].data\n",
    "plate_all = t['plate'].data\n",
    "mjd_all = t['mjd'].data\n",
    "fiber_all = t['fiber'].data\n",
    "tag_all = t['tag'].data\n",
    "note_all = t['note'].data\n",
    "zs_all = t['main_wave'].data/1215.67-1.0\n",
    "\n",
    "ra_all = []\n",
    "dec_all = []\n",
    "vdisp_all = []\n",
    "zl_all = []\n",
    "#read zans.ra,dec,vdisp info\n",
    "base_dir = '../../data/2/'\n",
    "for ii in range(len(plate_all)): #\n",
    "    file_name = '{}_{}.h5'.format(plate_all[ii],mjd_all[ii])\n",
    "    h5_file = base_dir+file_name\n",
    "    with h5py.File(h5_file, 'r') as f:\n",
    "        arr2 = f['zans']\n",
    "        zans_arr = arr2[:]\n",
    "    #print('file {} read finished'.format(file_name))\n",
    "    fibers = np.array([item[3] for item in zans_arr],dtype=np.int)  #refer to below to find index, Note index-1 !!!\n",
    "    id_fiber = np.where(fibers == int(fiber_all[ii]))\n",
    "    \n",
    "    #extract the structure which save the spectrum info\n",
    "    struct = zans_arr[id_fiber][0]\n",
    "    #save some info\n",
    "    ra = struct[8]\n",
    "    dec = struct[9]\n",
    "    #print(ra,dec)\\\n",
    "    z_l = struct[12]\n",
    "    vdisp = struct[22]\n",
    "\n",
    "    ra_all.append(ra)\n",
    "    dec_all.append(dec)\n",
    "    vdisp_all.append(vdisp)\n",
    "    zl_all.append(z_l)\n",
    "    \n",
    "    if ii%100 == 1:\n",
    "        print('read {} file'.format(ii))"
   ]
  },
  {
   "cell_type": "code",
   "execution_count": 36,
   "metadata": {},
   "outputs": [],
   "source": [
    "from astropy.table import Column\n",
    "from copy import deepcopy\n",
    "ra_col = Column(ra_all, name='ra')\n",
    "dec_col = Column(dec_all, name='dec')\n",
    "zl_col = Column(zl_all, name='z_l')\n",
    "zs_col = Column(zs_all, name='z_s')\n",
    "vdisp_col = Column(vdisp_all, name='vdisp') #km/s\n",
    "\n",
    "cal_thetaE = np.vectorize(ul.cal_einstein_radius_in_arcsec)\n",
    "thetaE_all = cal_thetaE(zl_col.data,zs_col.data,vdisp_col.data)\n",
    "thetaE_col = Column(thetaE_all , name='thetaE')\n",
    "\n",
    "tnew = deepcopy(t)\n",
    "tnew.add_columns([ra_col,dec_col,zl_col,zs_col,vdisp_col,thetaE_col])\n",
    "tnew.write('../../data/catalog_2_by_plot_einstien.csv',format='ascii.csv',overwrite=True)\n",
    "tnew.write('./1.fits',format='fits',overwrite=True)"
   ]
  },
  {
   "cell_type": "code",
   "execution_count": 37,
   "metadata": {},
   "outputs": [
    {
     "data": {
      "text/plain": [
       "<Table length=690>\n",
       "     name      dtype \n",
       "------------- -------\n",
       "        plate   int64\n",
       "          mjd   int64\n",
       "        fiber   int64\n",
       "          tag    str6\n",
       "         note   str35\n",
       " sn_peak_wave float64\n",
       "      peak_sn float64\n",
       "      spec_id   int64\n",
       "      peak_id   int64\n",
       "if_multi_line    str5\n",
       "    main_wave float64\n",
       "main_skewness float64\n",
       "    main_flux float64\n",
       "   main_width float64\n",
       "     sub_wave float64\n",
       " sub_skewness float64\n",
       "     sub_flux float64\n",
       "    sub_width float64\n",
       "     tot_flux float64\n",
       "           ra float64\n",
       "          dec float64\n",
       "          z_l float32\n",
       "          z_s float64\n",
       "        vdisp float32\n",
       "       thetaE float64"
      ]
     },
     "execution_count": 37,
     "metadata": {},
     "output_type": "execute_result"
    }
   ],
   "source": [
    "tnew.info"
   ]
  },
  {
   "cell_type": "code",
   "execution_count": 12,
   "metadata": {},
   "outputs": [
    {
     "name": "stdout",
     "output_type": "stream",
     "text": [
      "138.32591000000002\n",
      "33.992633\n",
      "0.7646578\n",
      "330.20834\n"
     ]
    }
   ],
   "source": [
    "print(ra_all[0])\n",
    "print(dec_all[0])\n",
    "print(zl_all[0])\n",
    "print(vdisp_all[0])"
   ]
  },
  {
   "cell_type": "code",
   "execution_count": 32,
   "metadata": {},
   "outputs": [],
   "source": [
    "from astropy.io import fits\n",
    "all_data_catalog = fits.getdata('/data/inspur_disk03/userdir/caoxy/sdss_data/spAll-v5_13_0.fits',memmap=True)\n",
    "#all_data_catalog.names.index('FIBERID')\n",
    "cmodel_mag_spall = all_data_catalog['CMODELMAG'][:,3]\n",
    "model_mag_spall = all_data_catalog['MODELMAG'][:,3]\n",
    "\n",
    "plate_spall = all_data_catalog['PLATE']\n",
    "mjd_spall = all_data_catalog['MJD']\n",
    "fiber_spall = all_data_catalog['FIBERID']"
   ]
  },
  {
   "cell_type": "code",
   "execution_count": 33,
   "metadata": {},
   "outputs": [],
   "source": [
    "cmodel_mag_all = []\n",
    "model_mag_all = []\n",
    "for ii,item in enumerate(plate_all[:]):\n",
    "    condition = np.logical_and((plate_spall==plate_all[ii]), (mjd_spall==mjd_all[ii]))\n",
    "    condition = np.logical_and(condition, (fiber_spall==fiber_all[ii]))\n",
    "    id_pickle = np.where(condition)[0][0]\n",
    "    cmodel_mag_all.append(cmodel_mag_spall[id_pickle])\n",
    "    model_mag_all.append(model_mag_spall[id_pickle])"
   ]
  },
  {
   "cell_type": "code",
   "execution_count": 40,
   "metadata": {},
   "outputs": [],
   "source": [
    "cmodel_mag_col = Column(cmodel_mag_all, name='cmodel_mag_i')\n",
    "model_mag_col = Column(model_mag_all, name='model_mag_i')\n",
    "\n",
    "tnew2 = deepcopy(tnew)\n",
    "tnew2.add_columns([cmodel_mag_col,model_mag_col])\n",
    "tnew2.write('../../data/catalog_3_by_plot_einstien.csv',format='ascii.csv',overwrite=True)\n",
    "tnew2.write('./2.fits',format='fits',overwrite=True)"
   ]
  },
  {
   "cell_type": "code",
   "execution_count": null,
   "metadata": {},
   "outputs": [],
   "source": []
  }
 ],
 "metadata": {
  "kernelspec": {
   "display_name": "Python 2",
   "language": "python",
   "name": "python2"
  },
  "language_info": {
   "codemirror_mode": {
    "name": "ipython",
    "version": 2
   },
   "file_extension": ".py",
   "mimetype": "text/x-python",
   "name": "python",
   "nbconvert_exporter": "python",
   "pygments_lexer": "ipython2",
   "version": "2.7.16"
  }
 },
 "nbformat": 4,
 "nbformat_minor": 2
}
