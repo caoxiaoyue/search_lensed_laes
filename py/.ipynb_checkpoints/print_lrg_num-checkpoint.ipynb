{
 "cells": [
  {
   "cell_type": "code",
   "execution_count": 10,
   "metadata": {},
   "outputs": [],
   "source": [
    "import subprocess\n",
    "import os\n",
    "import utils as ul\n",
    "import copy\n",
    "import pickle\n",
    "import gzip\n",
    "\n",
    "dir1 = os.getcwd()\n",
    "os.chdir('/data/inspur_disk03/userdir/caoxy/eboss_lya/data/2')\n",
    "dir2 = os.getcwd()\n",
    "\n",
    "output = subprocess.Popen(['ls','-l'],stdout=subprocess.PIPE,shell=True)\n",
    "lines = output.stdout.read().splitlines()\n",
    "lines = [line.decode(\"utf-8\") for line in lines]"
   ]
  },
  {
   "cell_type": "code",
   "execution_count": 12,
   "metadata": {},
   "outputs": [
    {
     "name": "stdout",
     "output_type": "stream",
     "text": [
      "200 number of file has benn read\n",
      "400 number of file has benn read\n",
      "600 number of file has benn read\n",
      "800 number of file has benn read\n",
      "1000 number of file has benn read\n",
      "1200 number of file has benn read\n",
      "1400 number of file has benn read\n",
      "1600 number of file has benn read\n",
      "1800 number of file has benn read\n",
      "2000 number of file has benn read\n",
      "2200 number of file has benn read\n",
      "2400 number of file has benn read\n",
      "2600 number of file has benn read\n",
      "2800 number of file has benn read\n",
      "3000 number of file has benn read\n",
      "3200 number of file has benn read\n",
      "3400 number of file has benn read\n",
      "3600 number of file has benn read\n",
      "9568_57815.h5\n"
     ]
    }
   ],
   "source": [
    "import h5py\n",
    "ii = 0\n",
    "tot_gal = 0\n",
    "n_lrg = 0\n",
    "for h5_file in lines[:]:\n",
    "    try:\n",
    "        #print(h5_file)\n",
    "        with h5py.File(h5_file, 'r') as f:\n",
    "            arr0 = f['flux']\n",
    "            flux_arr = arr0[:]\n",
    "            \n",
    "            arr1 = f['zans']\n",
    "            zans_arr = arr1[:]\n",
    "            \n",
    "            plug = f['plug']\n",
    "            plug_arr = plug[:]\n",
    "            \n",
    "        for kk in range(plug_arr.size):\n",
    "            src_type = plug_arr[kk][18]\n",
    "            src_type = src_type.decode(\"utf-8\")\n",
    "            src_type = src_type.replace(\" \", \"\")\n",
    "            \n",
    "            struct = zans_arr[kk]\n",
    "            obj_class = struct[10] \n",
    "            #print('---',obj_class)\n",
    "            \n",
    "            if (src_type == 'LRG') and (obj_class == 'GALAXY'):\n",
    "                n_lrg += 1\n",
    "                \n",
    "        tot_gal += flux_arr.shape[0]\n",
    "        ii += 1\n",
    "        if ii%200 == 0:\n",
    "            print('{} number of file has benn read'.format(ii))\n",
    "    except:\n",
    "        print(h5_file)"
   ]
  },
  {
   "cell_type": "code",
   "execution_count": 3,
   "metadata": {},
   "outputs": [
    {
     "name": "stdout",
     "output_type": "stream",
     "text": [
      "Total number of LRG 1571129\n",
      "Total number of file 1791038\n"
     ]
    }
   ],
   "source": [
    "print('Total number of LRG {}'.format(n_lrg))\n",
    "print('Total number of file {}'.format(tot_gal))"
   ]
  },
  {
   "cell_type": "code",
   "execution_count": 13,
   "metadata": {},
   "outputs": [
    {
     "name": "stdout",
     "output_type": "stream",
     "text": [
      "Total number of LRG 1571129\n",
      "Total number of file 1791038\n"
     ]
    }
   ],
   "source": [
    "print('Total number of LRG {}'.format(n_lrg))\n",
    "print('Total number of file {}'.format(tot_gal))"
   ]
  },
  {
   "cell_type": "code",
   "execution_count": 8,
   "metadata": {},
   "outputs": [
    {
     "data": {
      "text/plain": [
       "(200, 4644)"
      ]
     },
     "execution_count": 8,
     "metadata": {},
     "output_type": "execute_result"
    }
   ],
   "source": [
    "flux_arr.shape"
   ]
  },
  {
   "cell_type": "code",
   "execution_count": 9,
   "metadata": {},
   "outputs": [
    {
     "data": {
      "text/plain": [
       "(200,)"
      ]
     },
     "execution_count": 9,
     "metadata": {},
     "output_type": "execute_result"
    }
   ],
   "source": [
    "zans_arr.shape"
   ]
  },
  {
   "cell_type": "code",
   "execution_count": null,
   "metadata": {},
   "outputs": [],
   "source": []
  }
 ],
 "metadata": {
  "kernelspec": {
   "display_name": "Python 2",
   "language": "python",
   "name": "python2"
  },
  "language_info": {
   "codemirror_mode": {
    "name": "ipython",
    "version": 2
   },
   "file_extension": ".py",
   "mimetype": "text/x-python",
   "name": "python",
   "nbconvert_exporter": "python",
   "pygments_lexer": "ipython2",
   "version": "2.7.16"
  }
 },
 "nbformat": 4,
 "nbformat_minor": 4
}
