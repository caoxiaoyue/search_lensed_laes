{
 "cells": [
  {
   "cell_type": "code",
   "execution_count": 1,
   "metadata": {},
   "outputs": [],
   "source": [
    "import numpy as np\n",
    "from scipy.special import erf\n",
    "from matplotlib import pyplot as plt"
   ]
  },
  {
   "cell_type": "code",
   "execution_count": 2,
   "metadata": {},
   "outputs": [
    {
     "data": {
      "image/png": "[encoded data removed]",
      "text/plain": [
       "<Figure size 432x288 with 1 Axes>"
      ]
     },
     "metadata": {
      "needs_background": "light"
     },
     "output_type": "display_data"
    }
   ],
   "source": [
    "def skew_gauss(npix , A, x, omega, s, hw_sub=None):\n",
    "    '''\n",
    "    lam is wavelength variable, which is dependant variable in fitting\n",
    "    '''\n",
    "    if hw_sub is None:\n",
    "        lam = np.arange(0,npix,1)\n",
    "    else:\n",
    "        lam = np.arange(0,npix)[:,None]+np.arange(-hw_sub,hw_sub+1,1)*1.0/hw_sub/4\n",
    "        \n",
    "    factor = np.sqrt(np.pi)/2.0\n",
    "    gauss_comp = np.exp(-0.5*np.power((lam-x)/omega,2)) \n",
    "    erf_comp = factor * ( erf(s*(lam-x)/omega)+1.0 )\n",
    "    \n",
    "    if hw_sub is None:\n",
    "        return  A*gauss_comp*erf_comp\n",
    "    else:\n",
    "        return np.mean(A*gauss_comp *erf_comp,axis=1)\n",
    "\n",
    "npix = 100\n",
    "wave = np.arange(0,npix)\n",
    "flux = skew_gauss(npix, 10.0, 50.0, 10.0, 1.8, hw_sub=None)\n",
    "flux1 = skew_gauss(npix, 10.0, 50.0, 10.0, 1.8, hw_sub=10)\n",
    "plt.figure()\n",
    "plt.plot(wave,flux,'r',alpha=0.5)\n",
    "plt.plot(wave,flux1,'k:')\n",
    "plt.show()\n",
    "\n"
   ]
  },
  {
   "cell_type": "code",
   "execution_count": 3,
   "metadata": {},
   "outputs": [
    {
     "name": "stdout",
     "output_type": "stream",
     "text": [
      "('initial center wave guess', 55)\n",
      "  analysing data from multinest_out/.txt\n",
      "{u'log_likelihood': -0.11394050374655373, u'parameters': [9.822623541957379, 49.89141395492117, 10.21413409353946, 1.9709013038980512]}\n"
     ]
    },
    {
     "data": {
      "image/png": "[encoded data removed]",
      "text/plain": [
       "<Figure size 432x288 with 1 Axes>"
      ]
     },
     "metadata": {
      "needs_background": "light"
     },
     "output_type": "display_data"
    }
   ],
   "source": [
    "import numpy as np\n",
    "from scipy.stats import norm\n",
    "import time\n",
    "import pymultinest\n",
    "import json\n",
    "import copy\n",
    "obs = np.copy(flux)\n",
    "id1 = np.where(obs>1e-8)\n",
    "weight = np.zeros(shape=obs.shape)\n",
    "weight[id1] = 1/obs[id1]\n",
    "\n",
    "parameters = ['A', 'x', 'omega', 's']\n",
    "n_params = len(parameters)\n",
    "\n",
    "def loglike(cube,ndim, nparams):\n",
    "    mock = skew_gauss(npix , cube[0], cube[1], cube[2], cube[3],2)\n",
    "    return -0.5*np.sum( (obs-mock)**2*weight)\n",
    "\n",
    "print('initial center wave guess',wave[np.argmax(obs)])\n",
    "\n",
    "def prior(cube,ndim, nparams):\n",
    "    cube[0] = 30*cube[0] #norm.ppf(cube[0],loc=10,scale=1) #norm.ppf(cube[0],loc=0.3,scale=0.1) #normalization\n",
    "    cube[1] = norm.ppf(cube[1],loc=wave[np.argmax(obs)],scale=15) #norm.ppf(cube[1],loc=3050,scale=5)  #center x\n",
    "    cube[2] = 20*cube[2]#norm.ppf(cube[2],loc=10,scale=3) #omega,scatter\n",
    "    cube[3] = 20.0*cube[3] - 10.0 #norm.ppf(cube[3],loc=1.8,scale=0.3) #skewness [-20,20]\n",
    "\n",
    "pymultinest.run(loglike, prior, n_params, resume =False, verbose = True,outputfiles_basename='multinest_out/',\n",
    "                   n_live_points=50, evidence_tolerance=0.5,sampling_efficiency=0.5,\n",
    "                   importance_nested_sampling=False,const_efficiency_mode=True, multimodal=True)\n",
    "\n",
    "json.dump(parameters, open('multinest_out/params.json', 'w'))\n",
    "\n",
    "res = pymultinest.Analyzer(outputfiles_basename='multinest_out/', n_params = n_params)\n",
    "xx = res.get_best_fit()\n",
    "print(xx)\n",
    "fit_par = xx['parameters']\n",
    "\n",
    "plt.figure()\n",
    "plt.bar(wave,flux,alpha=0.5,width=1)\n",
    "#skew_gauss(wave , fit_par[0], fit_par[1], fit_par[3], fit_par[4])\n",
    "plt.plot(wave,skew_gauss(npix , fit_par[0], fit_par[1], fit_par[2], fit_par[3],hw_sub=10),color='red')\n",
    "#plt.plot(wave,skew_gauss(npix , hw_sub=None,*fit_par),color='red')\n",
    "plt.show()"
   ]
  },
  {
   "cell_type": "code",
   "execution_count": 4,
   "metadata": {},
   "outputs": [
    {
     "data": {
      "text/plain": [
       "array([[-0.25  , -0.1875, -0.125 , -0.0625,  0.    ,  0.0625,  0.125 ,\n",
       "         0.1875,  0.25  ],\n",
       "       [ 0.75  ,  0.8125,  0.875 ,  0.9375,  1.    ,  1.0625,  1.125 ,\n",
       "         1.1875,  1.25  ],\n",
       "       [ 1.75  ,  1.8125,  1.875 ,  1.9375,  2.    ,  2.0625,  2.125 ,\n",
       "         2.1875,  2.25  ],\n",
       "       [ 2.75  ,  2.8125,  2.875 ,  2.9375,  3.    ,  3.0625,  3.125 ,\n",
       "         3.1875,  3.25  ],\n",
       "       [ 3.75  ,  3.8125,  3.875 ,  3.9375,  4.    ,  4.0625,  4.125 ,\n",
       "         4.1875,  4.25  ],\n",
       "       [ 4.75  ,  4.8125,  4.875 ,  4.9375,  5.    ,  5.0625,  5.125 ,\n",
       "         5.1875,  5.25  ],\n",
       "       [ 5.75  ,  5.8125,  5.875 ,  5.9375,  6.    ,  6.0625,  6.125 ,\n",
       "         6.1875,  6.25  ],\n",
       "       [ 6.75  ,  6.8125,  6.875 ,  6.9375,  7.    ,  7.0625,  7.125 ,\n",
       "         7.1875,  7.25  ],\n",
       "       [ 7.75  ,  7.8125,  7.875 ,  7.9375,  8.    ,  8.0625,  8.125 ,\n",
       "         8.1875,  8.25  ],\n",
       "       [ 8.75  ,  8.8125,  8.875 ,  8.9375,  9.    ,  9.0625,  9.125 ,\n",
       "         9.1875,  9.25  ]])"
      ]
     },
     "execution_count": 4,
     "metadata": {},
     "output_type": "execute_result"
    }
   ],
   "source": [
    "npix=10\n",
    "hw_sub = 4\n",
    "x = np.arange(0,npix)[:,None]+np.arange(-hw_sub,hw_sub+1,1)*1.0/hw_sub/4\n",
    "x"
   ]
  },
  {
   "cell_type": "code",
   "execution_count": 5,
   "metadata": {},
   "outputs": [],
   "source": [
    "def double_peak(npix , A1, x1, omega1, s1, f_ratio, offset, omega2, s2, hw_sub=None):\n",
    "    if hw_sub is None:\n",
    "        lam = np.arange(0,npix,1)\n",
    "    else:\n",
    "        lam = np.arange(0,npix)[:,None]+np.arange(-hw_sub,hw_sub+1,1)*1.0/hw_sub/4\n",
    "    \n",
    "    factor = np.sqrt(np.pi)/2.0\n",
    "    \n",
    "    gauss_comp1 = np.exp(-0.5*np.power((lam-x1)/omega1,2)) \n",
    "    erf_comp1 = factor * ( erf(s1*(lam-x1)/omega1)+1.0 )\n",
    "    subfunc1 = A1*gauss_comp1*erf_comp1\n",
    "\n",
    "    x2 = x1 + offset\n",
    "    gauss_comp2 = np.exp(-0.5*np.power((lam-x2)/omega2,2)) \n",
    "    erf_comp2 = factor * ( erf(s2*(lam-x2)/omega2)+1.0 )\n",
    "    subfunc2 = f_ratio*A1*gauss_comp2*erf_comp2\n",
    "    \n",
    "    subfunc = subfunc1 + subfunc2\n",
    "    if hw_sub is None:\n",
    "        return  subfunc\n",
    "    else:\n",
    "        return np.mean(subfunc,axis=1)"
   ]
  },
  {
   "cell_type": "code",
   "execution_count": 6,
   "metadata": {},
   "outputs": [
    {
     "data": {
      "image/png": "[encoded data removed]",
      "text/plain": [
       "<Figure size 432x288 with 1 Axes>"
      ]
     },
     "metadata": {
      "needs_background": "light"
     },
     "output_type": "display_data"
    }
   ],
   "source": [
    "npix = 100\n",
    "wave = np.arange(0,npix)\n",
    "flux_0 = skew_gauss(npix, 20.0, 55.0, 8.0, 1.8, hw_sub=None)\n",
    "flux_1 = skew_gauss(npix, 10.0, 40.0, 8.0, 1., hw_sub=None)\n",
    "plt.figure()\n",
    "plt.plot(wave,flux_0,'r',alpha=0.5)\n",
    "plt.plot(wave,flux_1,'k:')\n",
    "flux_tot = flux_0 + flux_1\n",
    "plt.plot(wave,flux_tot)\n",
    "plt.show()\n"
   ]
  },
  {
   "cell_type": "code",
   "execution_count": 7,
   "metadata": {},
   "outputs": [
    {
     "data": {
      "image/png": "[encoded data removed]",
      "text/plain": [
       "<Figure size 432x288 with 1 Axes>"
      ]
     },
     "metadata": {
      "needs_background": "light"
     },
     "output_type": "display_data"
    }
   ],
   "source": [
    "npix = 100\n",
    "wave = np.arange(0,npix)\n",
    "flux_double = double_peak(npix , 10.0, 40.0, 8.0, 1.0, 2.0, 15.0, 8.0, 1.8, hw_sub=5)\n",
    "plt.figure()\n",
    "plt.plot(wave,flux_0,'r',alpha=0.5)\n",
    "plt.plot(wave,flux_1,'k:')\n",
    "plt.plot(wave,flux_double)\n",
    "plt.show()"
   ]
  },
  {
   "cell_type": "code",
   "execution_count": 40,
   "metadata": {},
   "outputs": [
    {
     "name": "stdout",
     "output_type": "stream",
     "text": [
      "('initial center wave guess', 59)\n",
      "  analysing data from multinest_out/.txt\n",
      "{u'log_likelihood': -0.5992970379280543, u'parameters': [8.269402898192165, 39.27994855156507, 11.678300854772392, 1.8535500259183948, 2.165967276082769, 15.873327788252672, 8.044442590267934, 2.172671439625679]}\n"
     ]
    },
    {
     "data": {
      "image/png": "[encoded data removed]",
      "text/plain": [
       "<Figure size 432x288 with 1 Axes>"
      ]
     },
     "metadata": {
      "needs_background": "light"
     },
     "output_type": "display_data"
    }
   ],
   "source": [
    "import numpy as np\n",
    "from scipy.stats import norm\n",
    "import time\n",
    "import pymultinest\n",
    "import json\n",
    "import copy\n",
    "obs = np.copy(flux_tot)\n",
    "id1 = np.where(obs>1e-8)\n",
    "weight = np.zeros(shape=obs.shape)\n",
    "weight[id1] = 1/obs[id1]\n",
    "\n",
    "parameters = ['A1', 'x1', 'omega1', 's1', 'flux_ratio', 'offset', 'omega2', 's2']\n",
    "n_params = len(parameters)\n",
    "\n",
    "def loglike(cube,ndim, nparams):\n",
    "    mock = double_peak(npix , cube[0], cube[1], cube[2], cube[3], cube[4], cube[5], cube[6], cube[7],hw_sub=2)\n",
    "    return -0.5*np.sum( (obs-mock)**2*weight)\n",
    "\n",
    "print('initial center wave guess',wave[np.argmax(obs)])\n",
    "\n",
    "def prior(cube,ndim, nparams):\n",
    "    cube[0] = 30*cube[0] #norm.ppf(cube[0],loc=10,scale=1) #norm.ppf(cube[0],loc=0.3,scale=0.1) #normalization\n",
    "    cube[1] = norm.ppf(cube[1],loc=wave[np.argmax(obs)],scale=15) #norm.ppf(cube[1],loc=3050,scale=5)  #center x\n",
    "    cube[2] = 20*cube[2]#norm.ppf(cube[2],loc=10,scale=3) #omega,scatter\n",
    "    cube[3] = 20.0*cube[3] - 10.0 #norm.ppf(cube[3],loc=1.8,scale=0.3) #skewness [-20,20]\n",
    "    cube[4] = 10.0*cube[4] + 1.0 #flux ratio\n",
    "    cube[5] = 30*cube[5] #offset\n",
    "    cube[6] = 20*cube[6] #omega2\n",
    "    cube[7] = 20.0*cube[7] - 10.0 #skewness2\n",
    "    \n",
    "pymultinest.run(loglike, prior, n_params, resume =False, verbose = True,outputfiles_basename='multinest_out/',\n",
    "                   n_live_points=200, evidence_tolerance=0.5,sampling_efficiency=0.05,\n",
    "                   importance_nested_sampling=False,const_efficiency_mode=True, multimodal=True)\n",
    "\n",
    "json.dump(parameters, open('multinest_out/params.json', 'w'))\n",
    "\n",
    "res = pymultinest.Analyzer(outputfiles_basename='multinest_out/', n_params = n_params)\n",
    "xx = res.get_best_fit()\n",
    "print(xx)\n",
    "fit_par = xx['parameters']\n",
    "\n",
    "plt.figure()\n",
    "plt.bar(wave,flux_tot,alpha=0.5,width=1)\n",
    "#skew_gauss(wave , fit_par[0], fit_par[1], fit_par[3], fit_par[4])\n",
    "plt.plot(wave,double_peak(npix , *fit_par,hw_sub=2))\n",
    "#plt.plot(wave,skew_gauss(npix , hw_sub=None,*fit_par),color='red')\n",
    "plt.show()"
   ]
  },
  {
   "cell_type": "code",
   "execution_count": 41,
   "metadata": {},
   "outputs": [
    {
     "data": {
      "text/plain": [
       "{u'global evidence': -21.92984216771252,\n",
       " u'global evidence error': 0.29895963352140925,\n",
       " u'marginals': [{u'1sigma': [7.299005363622676, 11.547040507739526],\n",
       "   u'2sigma': [6.150197092823637, 14.120849737562207],\n",
       "   u'3sigma': [4.658551515257059, 15.556318538703998],\n",
       "   u'5sigma': [2.498684452930741, 15.676188024887526],\n",
       "   u'median': 8.779295438043393,\n",
       "   u'q01%': 5.596913065384711,\n",
       "   u'q10%': 6.953703074254732,\n",
       "   u'q25%': 7.659238104281639,\n",
       "   u'q75%': 10.632106112023626,\n",
       "   u'q90%': 12.60457075534022,\n",
       "   u'q99%': 15.078890146226792,\n",
       "   u'sigma': 2.124017572058425},\n",
       "  {u'1sigma': [37.96325159137061, 46.68158964767537],\n",
       "   u'2sigma': [36.93345340642186, 48.56795395832056],\n",
       "   u'3sigma': [35.95904837082025, 50.023121265284],\n",
       "   u'5sigma': [34.22038660857056, 51.97681873737165],\n",
       "   u'median': 39.8597547053186,\n",
       "   u'q01%': 36.37784953645843,\n",
       "   u'q10%': 37.693908890262364,\n",
       "   u'q25%': 38.44923289303945,\n",
       "   u'q75%': 44.833717629715295,\n",
       "   u'q90%': 47.37841576112831,\n",
       "   u'q99%': 49.0217368674562,\n",
       "   u'sigma': 4.35916902815238},\n",
       "  {u'1sigma': [5.935270893657101, 12.814279335236458],\n",
       "   u'2sigma': [4.942302310426368, 14.191974511721305],\n",
       "   u'3sigma': [4.285873427647458, 15.169143410384605],\n",
       "   u'5sigma': [3.2558579251722355, 16.48078509257793],\n",
       "   u'median': 8.946601381908808,\n",
       "   u'q01%': 4.680131518743126,\n",
       "   u'q10%': 5.607622258835757,\n",
       "   u'q25%': 6.332312563482322,\n",
       "   u'q75%': 12.047913796914878,\n",
       "   u'q90%': 13.288486917223526,\n",
       "   u'q99%': 14.56408078862682,\n",
       "   u'sigma': 3.4395042207896784},\n",
       "  {u'1sigma': [-0.8136740841695215, 2.455762288615422],\n",
       "   u'2sigma': [-4.018781071597097, 3.6304216074699887],\n",
       "   u'3sigma': [-8.964037322641387, 7.293362499947776],\n",
       "   u'5sigma': [-9.99272196317372, 9.983994035546784],\n",
       "   u'median': 1.2794423024654213,\n",
       "   u'q01%': -5.805791800521639,\n",
       "   u'q10%': -1.352376148287464,\n",
       "   u'q25%': -0.1179945241050998,\n",
       "   u'q75%': 2.114272678082267,\n",
       "   u'q90%': 2.739708675457424,\n",
       "   u'q99%': 4.13745716639389,\n",
       "   u'sigma': 1.6347181863924716},\n",
       "  {u'1sigma': [1.6785171807860362, 2.8259785095227343],\n",
       "   u'2sigma': [1.3634685333275773, 3.9437043952803563],\n",
       "   u'3sigma': [1.1334946902878207, 5.5504891790612145],\n",
       "   u'5sigma': [1.130718686064988, 8.841965591557933],\n",
       "   u'median': 2.1626240764330356,\n",
       "   u'q01%': 1.2931450191512537,\n",
       "   u'q10%': 1.5659932595465063,\n",
       "   u'q25%': 1.8163891542087087,\n",
       "   u'q75%': 2.5658688962698255,\n",
       "   u'q90%': 3.058220054411264,\n",
       "   u'q99%': 4.4691445753765695,\n",
       "   u'sigma': 0.5737306643683491},\n",
       "  {u'1sigma': [8.459772203013676, 17.458263670073496],\n",
       "   u'2sigma': [5.853226022270506, 19.83496185937448],\n",
       "   u'3sigma': [4.456106297916798, 25.735352253818878],\n",
       "   u'5sigma': [1.9823973831749988, 29.977539692981804],\n",
       "   u'median': 15.50570685166267,\n",
       "   u'q01%': 5.300301733224431,\n",
       "   u'q10%': 7.50309271490251,\n",
       "   u'q25%': 10.986247875346978,\n",
       "   u'q75%': 16.85877780705424,\n",
       "   u'q90%': 17.970711623877534,\n",
       "   u'q99%': 22.584158884064227,\n",
       "   u'sigma': 4.49924573352991},\n",
       "  {u'1sigma': [7.2368124032915135, 8.444686567228327],\n",
       "   u'2sigma': [6.253711048809684, 8.933271217210608],\n",
       "   u'3sigma': [5.424694471605891, 9.457147287570612],\n",
       "   u'5sigma': [4.303579255194496, 11.049564447780337],\n",
       "   u'median': 7.9179376959605055,\n",
       "   u'q01%': 5.948744286702165,\n",
       "   u'q10%': 6.996037785067438,\n",
       "   u'q25%': 7.47061076017263,\n",
       "   u'q75%': 8.276619194878526,\n",
       "   u'q90%': 8.593351723858976,\n",
       "   u'q99%': 9.129337517040815,\n",
       "   u'sigma': 0.6039370819684069},\n",
       "  {u'1sigma': [0.9903650643264471, 2.7363392370782065],\n",
       "   u'2sigma': [-0.3887463198341122, 4.040839399975614],\n",
       "   u'3sigma': [-1.2061834405381753, 7.242749141931474],\n",
       "   u'5sigma': [-2.1455940331253154, 9.820426201876126],\n",
       "   u'median': 1.7627419098561792,\n",
       "   u'q01%': -0.8531520084599119,\n",
       "   u'q10%': 0.7505874982341528,\n",
       "   u'q25%': 1.2528948672755875,\n",
       "   u'q75%': 2.371002597445599,\n",
       "   u'q90%': 3.0480501665047335,\n",
       "   u'q99%': 5.0458963862883905,\n",
       "   u'sigma': 0.8729870863758797}],\n",
       " u'modes': [{u'index': 0,\n",
       "   u'local log-evidence': -21.92984216771252,\n",
       "   u'local log-evidence error': 0.29895963352140925,\n",
       "   u'maximum': [8.269402898192165,\n",
       "    39.27994855156507,\n",
       "    11.678300854772392,\n",
       "    1.8535500259183948,\n",
       "    2.165967276082769,\n",
       "    15.873327788252672,\n",
       "    8.044442590267934,\n",
       "    2.172671439625679],\n",
       "   u'maximum a posterior': [8.269402898192165,\n",
       "    39.27994855156507,\n",
       "    11.678300854772392,\n",
       "    1.8535500259183948,\n",
       "    2.165967276082769,\n",
       "    15.873327788252672,\n",
       "    8.044442590267934,\n",
       "    2.172671439625679],\n",
       "   u'mean': [9.283208368983177,\n",
       "    41.399780231069734,\n",
       "    9.222102697019995,\n",
       "    0.8716574264449916,\n",
       "    2.2660384281113815,\n",
       "    14.086766922955448,\n",
       "    7.838729617893527,\n",
       "    1.8319712430888928],\n",
       "   u'sigma': [2.162443731467457,\n",
       "    3.7216798610387674,\n",
       "    3.0078971889148387,\n",
       "    1.9411967158192043,\n",
       "    0.6503582953525486,\n",
       "    4.064278346018217,\n",
       "    0.6561414478439705,\n",
       "    1.039285056327754],\n",
       "   u'strictly local log-evidence': -21.92984216771252,\n",
       "   u'strictly local log-evidence error': 0.29895963352140914}],\n",
       " u'nested sampling global log-evidence': -21.92984216771252,\n",
       " u'nested sampling global log-evidence error': 0.29895963352140925}"
      ]
     },
     "execution_count": 41,
     "metadata": {},
     "output_type": "execute_result"
    }
   ],
   "source": [
    "res.get_stats()"
   ]
  },
  {
   "cell_type": "code",
   "execution_count": null,
   "metadata": {},
   "outputs": [],
   "source": []
  }
 ],
 "metadata": {
  "kernelspec": {
   "display_name": "Python 2",
   "language": "python",
   "name": "python2"
  },
  "language_info": {
   "codemirror_mode": {
    "name": "ipython",
    "version": 2
   },
   "file_extension": ".py",
   "mimetype": "text/x-python",
   "name": "python",
   "nbconvert_exporter": "python",
   "pygments_lexer": "ipython2",
   "version": "2.7.16"
  }
 },
 "nbformat": 4,
 "nbformat_minor": 2
}
