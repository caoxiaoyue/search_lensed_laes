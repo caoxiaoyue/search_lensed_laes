{
 "cells": [
  {
   "cell_type": "code",
   "execution_count": 1,
   "metadata": {},
   "outputs": [],
   "source": [
    "import subprocess\n",
    "import os\n",
    "import utils as ul\n",
    "import copy\n",
    "import pickle\n",
    "import gzip\n",
    "\n",
    "dir1 = os.getcwd()\n",
    "os.chdir('/data/inspur_disk03/userdir/caoxy/eboss_lya/data/2')\n",
    "dir2 = os.getcwd()\n",
    "\n",
    "output = subprocess.Popen(['ls','-l'],stdout=subprocess.PIPE,shell=True)\n",
    "lines = output.stdout.read().splitlines()\n",
    "lines = [line.decode(\"utf-8\") for line in lines]"
   ]
  },
  {
   "cell_type": "code",
   "execution_count": 2,
   "metadata": {},
   "outputs": [
    {
     "name": "stdout",
     "output_type": "stream",
     "text": [
      "100 number of file has benn read\n",
      "200 number of file has benn read\n",
      "300 number of file has benn read\n",
      "400 number of file has benn read\n",
      "500 number of file has benn read\n",
      "600 number of file has benn read\n",
      "700 number of file has benn read\n",
      "800 number of file has benn read\n",
      "900 number of file has benn read\n",
      "1000 number of file has benn read\n",
      "1100 number of file has benn read\n",
      "1200 number of file has benn read\n",
      "1300 number of file has benn read\n",
      "5017_55715.h5\n",
      "5018_55734.h5\n",
      "1400 number of file has benn read\n",
      "1500 number of file has benn read\n",
      "1600 number of file has benn read\n",
      "1700 number of file has benn read\n",
      "1800 number of file has benn read\n",
      "1900 number of file has benn read\n",
      "2000 number of file has benn read\n",
      "2100 number of file has benn read\n",
      "2200 number of file has benn read\n",
      "2300 number of file has benn read\n",
      "2400 number of file has benn read\n",
      "6783_56284.h5\n",
      "2500 number of file has benn read\n",
      "6931_56388.h5\n",
      "2600 number of file has benn read\n",
      "2700 number of file has benn read\n",
      "7379_56713.h5\n",
      "2800 number of file has benn read\n",
      "2900 number of file has benn read\n",
      "3000 number of file has benn read\n",
      "3100 number of file has benn read\n",
      "3200 number of file has benn read\n",
      "3300 number of file has benn read\n",
      "3400 number of file has benn read\n",
      "3500 number of file has benn read\n",
      "3600 number of file has benn read\n",
      "3700 number of file has benn read\n",
      "9568_57815.h5\n"
     ]
    }
   ],
   "source": [
    "import h5py\n",
    "import pickle\n",
    "import gzip\n",
    "import numpy as np\n",
    "ii = 0\n",
    "tot_gal = 0\n",
    "n_lrg = 0\n",
    "ourput_dir = \"/home/cao/fb/lrg_cont_spec_data\"\n",
    "for h5_file in lines[:]:\n",
    "    try:\n",
    "        #print(h5_file)\n",
    "        with h5py.File(h5_file, 'r') as f:\n",
    "            arr0 = f['flux']\n",
    "            flux_arr = arr0[:]\n",
    "            \n",
    "            arr1 = f['zans']\n",
    "            zans_arr = arr1[:]\n",
    "            \n",
    "            plug = f['plug']\n",
    "            plug_arr = plug[:]\n",
    "            \n",
    "            res_ivar = f['res_ivar'] \n",
    "            res_ivar_arr = res_ivar[:]\n",
    "            \n",
    "            loglam = f['loglam']\n",
    "            loglam_arr = loglam[:] \n",
    "            \n",
    "            syn_flux = f['newsynflux']\n",
    "            syn_flux_arr = syn_flux[:]\n",
    "        \n",
    "        z_arr = np.array([item[-9]for item in zans_arr])\n",
    "        #plate_arr = np.array([item[0]for item in zans_arr])\n",
    "        #mjd_arr = np.array([item[2]for item in zans_arr])\n",
    "        fiber_arr = np.array([item[3]for item in zans_arr])\n",
    "        \n",
    "        id_lrg = []\n",
    "        for kk in range(plug_arr.size):\n",
    "            src_type = plug_arr[kk][18]\n",
    "            src_type = src_type.decode(\"utf-8\")\n",
    "            src_type = src_type.replace(\" \", \"\")\n",
    "            \n",
    "            struct = zans_arr[kk]\n",
    "            obj_class = struct[10] \n",
    "            #print('---',obj_class)\n",
    "            \n",
    "            if (src_type == 'LRG') and (obj_class == 'GALAXY'):\n",
    "                n_lrg += 1\n",
    "                id_lrg.append(kk)\n",
    "        \n",
    "        tot_gal += flux_arr.shape[0]\n",
    "        ii += 1\n",
    "        if ii%100 == 0:\n",
    "            print('{} number of file has benn read'.format(ii))\n",
    "        \n",
    "        #write spec info\n",
    "        \n",
    "        if len(id_lrg) > 0:\n",
    "            out_struct = {'ivar':res_ivar_arr[id_lrg,:],'cont_flux':syn_flux_arr[id_lrg,:], 'flux': flux_arr[id_lrg,:], \n",
    "                          'z':z_arr[id_lrg],'loglam':loglam_arr,\n",
    "                          'plate':zans_arr[0][0], 'mjd':zans_arr[0][2], 'fiber': fiber_arr[id_lrg]}\n",
    "            outname = \"{}/{}.hdf5\".format(ourput_dir,h5_file[0:-3])\n",
    "            #print(outname)\n",
    "            #pickle.dump(out_struct,gzip.open(outname,'wb'))\n",
    "            with h5py.File(outname, \"w\") as f:\n",
    "                for key,item in out_struct.items():\n",
    "                    f.create_dataset(key, data=item)\n",
    "                \n",
    "    except:\n",
    "        print(h5_file)\n",
    "    if tot_gal > 300000:\n",
    "        continue"
   ]
  },
  {
   "cell_type": "code",
   "execution_count": 94,
   "metadata": {},
   "outputs": [
    {
     "name": "stdout",
     "output_type": "stream",
     "text": [
      "Total number of LRG 197\n",
      "Total number of file 200\n"
     ]
    }
   ],
   "source": [
    "print('Total number of LRG {}'.format(n_lrg))\n",
    "print('Total number of file {}'.format(tot_gal))"
   ]
  },
  {
   "cell_type": "code",
   "execution_count": 4,
   "metadata": {},
   "outputs": [
    {
     "name": "stdout",
     "output_type": "stream",
     "text": [
      "('1----', (146, 4607), (146, 4607), (4607,), (146,))\n"
     ]
    },
    {
     "data": {
      "image/png": "[encoded data removed]",
      "text/plain": [
       "<Figure size 432x288 with 1 Axes>"
      ]
     },
     "metadata": {
      "needs_background": "light"
     },
     "output_type": "display_data"
    }
   ],
   "source": [
    "from matplotlib import pyplot as plt\n",
    "import numpy as np\n",
    "import h5py\n",
    "\n",
    "with h5py.File('/home/cao/fb/lrg_cont_spec_data/9369_58054.hdf5', 'r') as f:\n",
    "    ivar = f['ivar'][()]  #inverse variance (i.e 1/noise**2)\n",
    "    cont_flux = f['cont_flux'][()]  #the continuum spectrum of objects, which is got through PCA template fit\n",
    "    flux = f['flux'][()]  #the spectrum of objects\n",
    "    z = f['z'][()]  #redshift of objects\n",
    "    loglam = f['loglam'][()]  #log10(wavelength)\n",
    "    plate = f['plate'][()]  #sdss-plate\n",
    "    mjd = f['mjd'][()]  #sdss-mjd\n",
    "    fiber = f['fiber'][()]  #sdss-fiber\n",
    "    \n",
    "print('1----', flux.shape, cont_flux.shape, loglam.shape, z.shape)\n",
    "#in this file, we have 146 diffrent lrg galaxies, \n",
    "#the spectrum of each of them is saved into an 1d-array(size 4607)\n",
    "plt.plot(10**loglam,flux[130,:])\n",
    "plt.plot(10**loglam, cont_flux[130,:])\n",
    "plt.show()"
   ]
  },
  {
   "cell_type": "code",
   "execution_count": 11,
   "metadata": {},
   "outputs": [
    {
     "data": {
      "text/plain": [
       "(-1, 2)"
      ]
     },
     "execution_count": 11,
     "metadata": {},
     "output_type": "execute_result"
    },
    {
     "data": {
      "image/png": "[encoded data removed]",
      "text/plain": [
       "<Figure size 432x288 with 1 Axes>"
      ]
     },
     "metadata": {
      "needs_background": "light"
     },
     "output_type": "display_data"
    }
   ],
   "source": [
    "plt.figure()\n",
    "plt.plot(10**loglam, cont_flux[130,:])\n",
    "plt.ylim(-1,2)"
   ]
  },
  {
   "cell_type": "code",
   "execution_count": 7,
   "metadata": {},
   "outputs": [
    {
     "data": {
      "text/plain": [
       "'/home/cao/fb/lrg_cont_spec_data/9369_58054.hdf5'"
      ]
     },
     "execution_count": 7,
     "metadata": {},
     "output_type": "execute_result"
    }
   ],
   "source": [
    "outname"
   ]
  },
  {
   "cell_type": "code",
   "execution_count": 67,
   "metadata": {},
   "outputs": [
    {
     "data": {
      "text/plain": [
       "1.3969838619232178"
      ]
     },
     "execution_count": 67,
     "metadata": {},
     "output_type": "execute_result"
    }
   ],
   "source": [
    "8*5000*3*1e5 / (8*1024*1024*1024)"
   ]
  },
  {
   "cell_type": "code",
   "execution_count": 3,
   "metadata": {},
   "outputs": [
    {
     "data": {
      "text/plain": [
       "[<matplotlib.lines.Line2D at 0x7f474eeeab90>]"
      ]
     },
     "execution_count": 3,
     "metadata": {},
     "output_type": "execute_result"
    },
    {
     "data": {
      "image/png": "[encoded data removed]",
      "text/plain": [
       "<Figure size 432x288 with 1 Axes>"
      ]
     },
     "metadata": {
      "needs_background": "light"
     },
     "output_type": "display_data"
    }
   ],
   "source": [
    "from matplotlib import pyplot as plt\n",
    "plt.plot(10**out_struct['loglam'],out_struct['flux'][130,:])\n",
    "plt.plot(10**out_struct['loglam'],out_struct['cont_flux'][130,:])"
   ]
  },
  {
   "cell_type": "code",
   "execution_count": 97,
   "metadata": {},
   "outputs": [
    {
     "name": "stdout",
     "output_type": "stream",
     "text": [
      "plate=10000&mjd=57346&fiber=625#\n"
     ]
    }
   ],
   "source": [
    "print(\"plate={}&mjd={}&fiber={}#\".format(out_struct['plate'], out_struct['mjd'], out_struct['fiber'][130]))"
   ]
  },
  {
   "cell_type": "code",
   "execution_count": 98,
   "metadata": {},
   "outputs": [
    {
     "data": {
      "text/plain": [
       "0.70906264"
      ]
     },
     "execution_count": 98,
     "metadata": {},
     "output_type": "execute_result"
    }
   ],
   "source": [
    "out_struct['z'][130]"
   ]
  },
  {
   "cell_type": "code",
   "execution_count": 48,
   "metadata": {},
   "outputs": [
    {
     "data": {
      "text/plain": [
       "197"
      ]
     },
     "execution_count": 48,
     "metadata": {},
     "output_type": "execute_result"
    }
   ],
   "source": [
    "len(id_lrg)"
   ]
  },
  {
   "cell_type": "code",
   "execution_count": null,
   "metadata": {},
   "outputs": [],
   "source": [
    "out"
   ]
  }
 ],
 "metadata": {
  "kernelspec": {
   "display_name": "Python 2",
   "language": "python",
   "name": "python2"
  },
  "language_info": {
   "codemirror_mode": {
    "name": "ipython",
    "version": 2
   },
   "file_extension": ".py",
   "mimetype": "text/x-python",
   "name": "python",
   "nbconvert_exporter": "python",
   "pygments_lexer": "ipython2",
   "version": "2.7.16"
  }
 },
 "nbformat": 4,
 "nbformat_minor": 4
}
