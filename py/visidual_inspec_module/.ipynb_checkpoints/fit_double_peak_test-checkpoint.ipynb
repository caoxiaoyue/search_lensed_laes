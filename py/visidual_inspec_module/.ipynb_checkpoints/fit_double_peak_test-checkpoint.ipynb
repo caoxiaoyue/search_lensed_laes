{
 "cells": [
  {
   "cell_type": "code",
   "execution_count": 1,
   "metadata": {},
   "outputs": [],
   "source": [
    "import numpy as np\n",
    "from scipy.special import erf\n",
    "from matplotlib import pyplot as plt"
   ]
  },
  {
   "cell_type": "code",
   "execution_count": 21,
   "metadata": {},
   "outputs": [
    {
     "data": {
      "image/png": "[encoded data removed]",
      "text/plain": [
       "<Figure size 432x288 with 1 Axes>"
      ]
     },
     "metadata": {
      "needs_background": "light"
     },
     "output_type": "display_data"
    }
   ],
   "source": [
    "def skew_gauss(npix , A, x, omega, s, hw_sub=None):\n",
    "    '''\n",
    "    lam is wavelength variable, which is dependant variable in fitting\n",
    "    '''\n",
    "    if hw_sub is None:\n",
    "        lam = np.arange(0,npix,1)\n",
    "    else:\n",
    "        lam = np.arange(0,npix)[:,None]+np.arange(-hw_sub,hw_sub+1,1)*1.0/hw_sub/2\n",
    "        \n",
    "    factor = np.sqrt(np.pi)/2.0\n",
    "    gauss_comp = np.exp(-0.5*np.power((lam-x)/omega,2)) \n",
    "    erf_comp = factor * ( erf(s*(lam-x)/omega)+1.0 )\n",
    "    \n",
    "    if hw_sub is None:\n",
    "        return  A*gauss_comp*erf_comp\n",
    "    else:\n",
    "        return np.mean(A*gauss_comp *erf_comp,axis=1)\n",
    "\n",
    "npix = 100\n",
    "wave = np.arange(0,npix)\n",
    "flux_single = skew_gauss(npix, 10.0, 50.0, 10.0, 1.8, hw_sub=None)\n",
    "flux_single1 = skew_gauss(npix, 10.0, 50.0, 10.0, 1.8, hw_sub=10)\n",
    "plt.figure()\n",
    "plt.plot(wave,flux_single,'r',alpha=0.5)\n",
    "plt.plot(wave,flux_single1,'k:')\n",
    "plt.show()\n",
    "\n"
   ]
  },
  {
   "cell_type": "code",
   "execution_count": 7,
   "metadata": {},
   "outputs": [
    {
     "name": "stdout",
     "output_type": "stream",
     "text": [
      "('initial center wave guess', 55)\n",
      "  analysing data from multinest_out/.txt\n",
      "{u'log_likelihood': -0.09551476882701238, u'parameters': [9.677654427456764, 49.700158903938686, 10.230803332137253, 1.9069119483138088]}\n"
     ]
    },
    {
     "data": {
      "image/png": "[encoded data removed]",
      "text/plain": [
       "<Figure size 432x288 with 1 Axes>"
      ]
     },
     "metadata": {
      "needs_background": "light"
     },
     "output_type": "display_data"
    }
   ],
   "source": [
    "import numpy as np\n",
    "from scipy.stats import norm\n",
    "import time\n",
    "import pymultinest\n",
    "import json\n",
    "import copy\n",
    "obs = np.copy(flux_single)\n",
    "id1 = np.where(obs>1e-8)\n",
    "weight = np.zeros(shape=obs.shape)\n",
    "weight[id1] = 1/obs[id1]\n",
    "\n",
    "parameters = ['A', 'x', 'omega', 's']\n",
    "n_params = len(parameters)\n",
    "\n",
    "def loglike(cube,ndim, nparams):\n",
    "    mock = skew_gauss(npix , cube[0], cube[1], cube[2], cube[3],2)\n",
    "    return -0.5*np.sum( (obs-mock)**2*weight)\n",
    "\n",
    "print('initial center wave guess',wave[np.argmax(obs)])\n",
    "\n",
    "def prior(cube,ndim, nparams):\n",
    "    cube[0] = 30*cube[0] #norm.ppf(cube[0],loc=10,scale=1) #norm.ppf(cube[0],loc=0.3,scale=0.1) #normalization\n",
    "    cube[1] = norm.ppf(cube[1],loc=wave[np.argmax(obs)],scale=15) #norm.ppf(cube[1],loc=3050,scale=5)  #center x\n",
    "    cube[2] = 20*cube[2]#norm.ppf(cube[2],loc=10,scale=3) #omega,scatter\n",
    "    cube[3] = 20.0*cube[3] - 10.0 #norm.ppf(cube[3],loc=1.8,scale=0.3) #skewness [-20,20]\n",
    "\n",
    "pymultinest.run(loglike, prior, n_params, resume =False, verbose = True,outputfiles_basename='multinest_out/',\n",
    "                   n_live_points=200, evidence_tolerance=0.5,sampling_efficiency=0.05,\n",
    "                   importance_nested_sampling=False,const_efficiency_mode=True, multimodal=True)\n",
    "\n",
    "json.dump(parameters, open('multinest_out/params.json', 'w'))\n",
    "\n",
    "res = pymultinest.Analyzer(outputfiles_basename='multinest_out/', n_params = n_params)\n",
    "xx = res.get_best_fit()\n",
    "print(xx)\n",
    "fit_par = xx['parameters']\n",
    "\n",
    "plt.figure()\n",
    "plt.bar(wave,obs,alpha=0.5,width=1)\n",
    "#skew_gauss(wave , fit_par[0], fit_par[1], fit_par[3], fit_par[4])\n",
    "plt.plot(wave,skew_gauss(npix , fit_par[0], fit_par[1], fit_par[2], fit_par[3],hw_sub=10),color='red')\n",
    "#plt.plot(wave,skew_gauss(npix , hw_sub=None,*fit_par),color='red')\n",
    "plt.show()"
   ]
  },
  {
   "cell_type": "code",
   "execution_count": 9,
   "metadata": {},
   "outputs": [
    {
     "data": {
      "text/plain": [
       "{u'global evidence': -12.057117116519157,\n",
       " u'global evidence error': 0.2237025277413868,\n",
       " u'marginals': [{u'1sigma': [8.90295481110638, 10.899827606874549],\n",
       "   u'2sigma': [8.122650142409466, 11.92223490779603],\n",
       "   u'3sigma': [7.292770610651455, 13.67848876717463],\n",
       "   u'5sigma': [5.9179295465719095, 19.31139812226781],\n",
       "   u'median': 9.874360300388734,\n",
       "   u'q01%': 7.857181300133523,\n",
       "   u'q10%': 8.66368655272631,\n",
       "   u'q25%': 9.21048158050168,\n",
       "   u'q75%': 10.588621390639942,\n",
       "   u'q90%': 11.211750651350465,\n",
       "   u'q99%': 12.887558190942215,\n",
       "   u'sigma': 0.9984363978840847},\n",
       "  {u'1sigma': [49.20470060029057, 50.77506138583671],\n",
       "   u'2sigma': [48.523110313197485, 51.754755387608206],\n",
       "   u'3sigma': [47.91467867266735, 53.26774343871277],\n",
       "   u'5sigma': [46.91208200948495, 60.89854445544044],\n",
       "   u'median': 49.958019698908934,\n",
       "   u'q01%': 48.25822958821372,\n",
       "   u'q10%': 48.9955642846585,\n",
       "   u'q25%': 49.46877051518968,\n",
       "   u'q75%': 50.48259255917455,\n",
       "   u'q90%': 50.996594429459016,\n",
       "   u'q99%': 52.19961790691561,\n",
       "   u'sigma': 0.7851803927730678},\n",
       "  {u'1sigma': [9.193389703477738, 10.701724950345517],\n",
       "   u'2sigma': [8.297996238248798, 11.34204974259032],\n",
       "   u'3sigma': [7.114121668934648, 11.980690983547088],\n",
       "   u'5sigma': [5.192538377007026, 12.72190734835298],\n",
       "   u'median': 9.984296587380985,\n",
       "   u'q01%': 7.800282425485101,\n",
       "   u'q10%': 9.01196009083455,\n",
       "   u'q25%': 9.441022739996692,\n",
       "   u'q75%': 10.46833119564249,\n",
       "   u'q90%': 10.911515388398682,\n",
       "   u'q99%': 11.618745164955781,\n",
       "   u'sigma': 0.7541676234338892},\n",
       "  {u'1sigma': [1.4913222735187694, 2.511046752891649],\n",
       "   u'2sigma': [1.141910541721998, 3.4466759295023714],\n",
       "   u'3sigma': [0.7285332772961995, 5.729001153960347],\n",
       "   u'5sigma': [-0.6457212873445433, 9.876346287038862],\n",
       "   u'median': 1.9270958910836409,\n",
       "   u'q01%': 0.9806572402953384,\n",
       "   u'q10%': 1.4070030668797944,\n",
       "   u'q25%': 1.618894215958031,\n",
       "   u'q75%': 2.3053624980094023,\n",
       "   u'q90%': 2.7263772041405487,\n",
       "   u'q99%': 3.8358981433794224,\n",
       "   u'sigma': 0.5098622396864397}],\n",
       " u'modes': [{u'index': 0,\n",
       "   u'local log-evidence': -12.057117116519157,\n",
       "   u'local log-evidence error': 0.2237025277413868,\n",
       "   u'maximum': [9.677654427456764,\n",
       "    49.700158903938686,\n",
       "    10.230803332137253,\n",
       "    1.9069119483138088],\n",
       "   u'maximum a posterior': [9.677654427456764,\n",
       "    49.700158903938686,\n",
       "    10.230803332137253,\n",
       "    1.9069119483138088],\n",
       "   u'mean': [9.924441036117107,\n",
       "    50.002539045387294,\n",
       "    9.954482455139386,\n",
       "    2.017537408300872],\n",
       "   u'sigma': [1.0210356151965072,\n",
       "    0.8199678952960104,\n",
       "    0.7681175323250244,\n",
       "    0.596529678570955],\n",
       "   u'strictly local log-evidence': -12.057117116519157,\n",
       "   u'strictly local log-evidence error': 0.22370252774138688}],\n",
       " u'nested sampling global log-evidence': -12.057117116519157,\n",
       " u'nested sampling global log-evidence error': 0.2237025277413868}"
      ]
     },
     "execution_count": 9,
     "metadata": {},
     "output_type": "execute_result"
    }
   ],
   "source": [
    "res.get_stats()"
   ]
  },
  {
   "cell_type": "code",
   "execution_count": 20,
   "metadata": {},
   "outputs": [
    {
     "data": {
      "text/plain": [
       "array([[-0.5, -0.4, -0.3, -0.2, -0.1,  0. ,  0.1,  0.2,  0.3,  0.4,  0.5],\n",
       "       [ 0.5,  0.6,  0.7,  0.8,  0.9,  1. ,  1.1,  1.2,  1.3,  1.4,  1.5],\n",
       "       [ 1.5,  1.6,  1.7,  1.8,  1.9,  2. ,  2.1,  2.2,  2.3,  2.4,  2.5],\n",
       "       [ 2.5,  2.6,  2.7,  2.8,  2.9,  3. ,  3.1,  3.2,  3.3,  3.4,  3.5],\n",
       "       [ 3.5,  3.6,  3.7,  3.8,  3.9,  4. ,  4.1,  4.2,  4.3,  4.4,  4.5],\n",
       "       [ 4.5,  4.6,  4.7,  4.8,  4.9,  5. ,  5.1,  5.2,  5.3,  5.4,  5.5],\n",
       "       [ 5.5,  5.6,  5.7,  5.8,  5.9,  6. ,  6.1,  6.2,  6.3,  6.4,  6.5],\n",
       "       [ 6.5,  6.6,  6.7,  6.8,  6.9,  7. ,  7.1,  7.2,  7.3,  7.4,  7.5]])"
      ]
     },
     "execution_count": 20,
     "metadata": {},
     "output_type": "execute_result"
    }
   ],
   "source": [
    "npix=8\n",
    "hw_sub = 5\n",
    "x = np.arange(0,npix)[:,None]+np.arange(-hw_sub,hw_sub+1,1)*1.0/hw_sub/2\n",
    "x"
   ]
  },
  {
   "cell_type": "code",
   "execution_count": 15,
   "metadata": {},
   "outputs": [
    {
     "data": {
      "text/plain": [
       "array([-0.5  , -0.375, -0.25 , -0.125,  0.   ,  0.125,  0.25 ,  0.375,\n",
       "        0.5  ])"
      ]
     },
     "execution_count": 15,
     "metadata": {},
     "output_type": "execute_result"
    }
   ],
   "source": [
    "np.arange(-hw_sub,hw_sub+1,1)*1.0/hw_sub/2"
   ]
  },
  {
   "cell_type": "code",
   "execution_count": 22,
   "metadata": {},
   "outputs": [],
   "source": [
    "def double_peak(npix , A1, x1, omega1, s1, f_ratio, offset, omega2, s2, hw_sub=None):\n",
    "    if hw_sub is None:\n",
    "        lam = np.arange(0,npix,1)\n",
    "    else:\n",
    "        lam = np.arange(0,npix)[:,None]+np.arange(-hw_sub,hw_sub+1,1)*1.0/hw_sub/2\n",
    "    \n",
    "    factor = np.sqrt(np.pi)/2.0\n",
    "    \n",
    "    gauss_comp1 = np.exp(-0.5*np.power((lam-x1)/omega1,2)) \n",
    "    erf_comp1 = factor * ( erf(s1*(lam-x1)/omega1)+1.0 )\n",
    "    subfunc1 = A1*gauss_comp1*erf_comp1\n",
    "\n",
    "    x2 = x1 + offset\n",
    "    gauss_comp2 = np.exp(-0.5*np.power((lam-x2)/omega2,2)) \n",
    "    erf_comp2 = factor * ( erf(s2*(lam-x2)/omega2)+1.0 )\n",
    "    subfunc2 = f_ratio*A1*gauss_comp2*erf_comp2\n",
    "    \n",
    "    subfunc = subfunc1 + subfunc2\n",
    "    if hw_sub is None:\n",
    "        return  subfunc\n",
    "    else:\n",
    "        return np.mean(subfunc,axis=1)"
   ]
  },
  {
   "cell_type": "code",
   "execution_count": 23,
   "metadata": {},
   "outputs": [
    {
     "data": {
      "image/png": "[encoded data removed]",
      "text/plain": [
       "<Figure size 432x288 with 1 Axes>"
      ]
     },
     "metadata": {
      "needs_background": "light"
     },
     "output_type": "display_data"
    }
   ],
   "source": [
    "npix = 100\n",
    "wave = np.arange(0,npix)\n",
    "flux_0 = skew_gauss(npix, 20.0, 55.0, 8.0, 1.8, hw_sub=None)\n",
    "flux_1 = skew_gauss(npix, 5.0, 40.0, 8.0, 1., hw_sub=None)\n",
    "plt.figure()\n",
    "plt.plot(wave,flux_0,'r',alpha=0.5)\n",
    "plt.plot(wave,flux_1,'k:')\n",
    "flux_tot = flux_0 + flux_1\n",
    "plt.plot(wave,flux_tot)\n",
    "plt.show()\n"
   ]
  },
  {
   "cell_type": "code",
   "execution_count": 24,
   "metadata": {},
   "outputs": [
    {
     "data": {
      "image/png": "[encoded data removed]",
      "text/plain": [
       "<Figure size 432x288 with 1 Axes>"
      ]
     },
     "metadata": {
      "needs_background": "light"
     },
     "output_type": "display_data"
    }
   ],
   "source": [
    "npix = 100\n",
    "wave = np.arange(0,npix)\n",
    "flux_double = double_peak(npix , 5.0, 40.0, 8.0, 1.0, 4.0, 15.0, 8.0, 1.8, hw_sub=5)\n",
    "plt.figure()\n",
    "plt.plot(wave,flux_0,'r',alpha=0.5)\n",
    "plt.plot(wave,flux_1,'k:')\n",
    "plt.plot(wave,flux_double)\n",
    "plt.show()"
   ]
  },
  {
   "cell_type": "code",
   "execution_count": 11,
   "metadata": {},
   "outputs": [
    {
     "name": "stdout",
     "output_type": "stream",
     "text": [
      "('initial center wave guess', 55)\n",
      "  analysing data from multinest_out/.txt\n",
      "{u'log_likelihood': -0.19526720218072965, u'parameters': [0.9002986503626449, 49.47935494754439, 2.264626708684415, -0.10781014136048483, 11.391506342154669, 0.7652425183828715, 9.836242877714245, 1.6819493631618236]}\n"
     ]
    },
    {
     "data": {
      "image/png": "[encoded data removed]",
      "text/plain": [
       "<Figure size 432x288 with 1 Axes>"
      ]
     },
     "metadata": {
      "needs_background": "light"
     },
     "output_type": "display_data"
    }
   ],
   "source": [
    "import numpy as np\n",
    "from scipy.stats import norm\n",
    "import time\n",
    "import pymultinest\n",
    "import json\n",
    "import copy\n",
    "obs = np.copy(flux_single)\n",
    "id1 = np.where(obs>1e-8)\n",
    "weight = np.zeros(shape=obs.shape)\n",
    "weight[id1] = 1/obs[id1]\n",
    "\n",
    "parameters = ['A1', 'x1', 'omega1', 's1', 'flux_ratio', 'offset', 'omega2', 's2']\n",
    "n_params = len(parameters)\n",
    "\n",
    "def loglike(cube,ndim, nparams):\n",
    "    mock = double_peak(npix , cube[0], cube[1], cube[2], cube[3], cube[4], cube[5], cube[6], cube[7],hw_sub=2)\n",
    "    return -0.5*np.sum( (obs-mock)**2*weight)\n",
    "\n",
    "print('initial center wave guess',wave[np.argmax(obs)])\n",
    "\n",
    "def prior(cube,ndim, nparams):\n",
    "    cube[0] = 30*cube[0] #norm.ppf(cube[0],loc=10,scale=1) #norm.ppf(cube[0],loc=0.3,scale=0.1) #normalization\n",
    "    cube[1] = norm.ppf(cube[1],loc=wave[np.argmax(obs)],scale=15) #norm.ppf(cube[1],loc=3050,scale=5)  #center x\n",
    "    cube[2] = 20*cube[2]#norm.ppf(cube[2],loc=10,scale=3) #omega,scatter\n",
    "    cube[3] = 20.0*cube[3] - 10.0 #norm.ppf(cube[3],loc=1.8,scale=0.3) #skewness [-20,20]\n",
    "    cube[4] = 20.0*cube[4] + 1.0 #flux ratio\n",
    "    cube[5] = 30*cube[5] #offset\n",
    "    cube[6] = 20*cube[6] #omega2\n",
    "    cube[7] = 20.0*cube[7] - 10.0 #skewness2\n",
    "    \n",
    "pymultinest.run(loglike, prior, n_params, resume =False, verbose = True,outputfiles_basename='multinest_out/',\n",
    "                   n_live_points=200, evidence_tolerance=0.5,sampling_efficiency=0.05,\n",
    "                   importance_nested_sampling=False,const_efficiency_mode=True, multimodal=True)\n",
    "\n",
    "json.dump(parameters, open('multinest_out/params.json', 'w'))\n",
    "\n",
    "res = pymultinest.Analyzer(outputfiles_basename='multinest_out/', n_params = n_params)\n",
    "xx = res.get_best_fit()\n",
    "print(xx)\n",
    "fit_par = xx['parameters']\n",
    "\n",
    "plt.figure()\n",
    "plt.bar(wave,obs,alpha=0.5,width=1)\n",
    "#skew_gauss(wave , fit_par[0], fit_par[1], fit_par[3], fit_par[4])\n",
    "plt.plot(wave,double_peak(npix , *fit_par,hw_sub=2))\n",
    "#plt.plot(wave,skew_gauss(npix , hw_sub=None,*fit_par),color='red')\n",
    "plt.show()"
   ]
  },
  {
   "cell_type": "code",
   "execution_count": 42,
   "metadata": {},
   "outputs": [
    {
     "data": {
      "text/plain": [
       "{u'global evidence': -21.35197536909252,\n",
       " u'global evidence error': 0.29629325331024037,\n",
       " u'marginals': [{u'1sigma': [3.378909219336813, 5.5170543193725],\n",
       "   u'2sigma': [2.6617508487750654, 7.115309797610267],\n",
       "   u'3sigma': [1.8639300549973028, 7.982566393598815],\n",
       "   u'5sigma': [0.9594053497176357, 8.083393184764837],\n",
       "   u'median': 4.218485345830564,\n",
       "   u'q01%': 2.3621466196905723,\n",
       "   u'q10%': 3.2102145012914183,\n",
       "   u'q25%': 3.59447288403306,\n",
       "   u'q75%': 5.062382741199349,\n",
       "   u'q90%': 5.952292343971752,\n",
       "   u'q99%': 7.534978831693821,\n",
       "   u'sigma': 1.0690725500178435},\n",
       "  {u'1sigma': [37.66222409671887, 47.66202891990344],\n",
       "   u'2sigma': [36.39945897167071, 50.09727096462952],\n",
       "   u'3sigma': [35.03806636594315, 52.19038999039456],\n",
       "   u'5sigma': [32.87388552136654, 60.37513176707333],\n",
       "   u'median': 39.95733016425751,\n",
       "   u'q01%': 35.85166233357569,\n",
       "   u'q10%': 37.31059563265243,\n",
       "   u'q25%': 38.2639733516355,\n",
       "   u'q75%': 46.42999570209431,\n",
       "   u'q90%': 48.38515345723068,\n",
       "   u'q99%': 51.01962607793235,\n",
       "   u'sigma': 4.999902411592284},\n",
       "  {u'1sigma': [6.0659760231513795, 13.3041738744711],\n",
       "   u'2sigma': [5.056273994694084, 14.950036648817044],\n",
       "   u'3sigma': [3.9865399816369878, 16.065148033034077],\n",
       "   u'5sigma': [1.989594040090341, 17.157511489300898],\n",
       "   u'median': 9.333083195844626,\n",
       "   u'q01%': 4.774965654306435,\n",
       "   u'q10%': 5.702627110315316,\n",
       "   u'q25%': 6.600103460485705,\n",
       "   u'q75%': 12.334382026994989,\n",
       "   u'q90%': 13.91330175411602,\n",
       "   u'q99%': 15.467165530925056,\n",
       "   u'sigma': 3.6190989256598605},\n",
       "  {u'1sigma': [-1.4809667213186595, 3.0917398097024864],\n",
       "   u'2sigma': [-7.191714091232171, 6.308263735904201],\n",
       "   u'3sigma': [-9.842999541043572, 9.711555913543068],\n",
       "   u'5sigma': [-9.999063623009182, 9.930055546454899],\n",
       "   u'median': 1.3788094332376901,\n",
       "   u'q01%': -8.901470382326192,\n",
       "   u'q10%': -2.6755737645604887,\n",
       "   u'q25%': -0.5778037736446511,\n",
       "   u'q75%': 2.4006678396875842,\n",
       "   u'q90%': 3.7096673918162018,\n",
       "   u'q99%': 7.413139456418142,\n",
       "   u'sigma': 2.2863532655105727},\n",
       "  {u'1sigma': [3.5032413006607896, 6.215232154645473],\n",
       "   u'2sigma': [2.737692172474381, 8.6981972771427],\n",
       "   u'3sigma': [2.2477102527610358, 12.380540940832747],\n",
       "   u'5sigma': [1.5637278321588393, 20.478380996591746],\n",
       "   u'median': 4.645412432853579,\n",
       "   u'q01%': 2.441781083363296,\n",
       "   u'q10%': 3.2468754103808286,\n",
       "   u'q25%': 3.8666354581804265,\n",
       "   u'q75%': 5.629380946800173,\n",
       "   u'q90%': 6.707000061928527,\n",
       "   u'q99%': 10.168508418718297,\n",
       "   u'sigma': 1.3559954269923415},\n",
       "  {u'1sigma': [7.463260022762848, 17.540841659097484],\n",
       "   u'2sigma': [4.7992386744273094, 19.545011084862338],\n",
       "   u'3sigma': [2.6128070310704747, 24.764532537889213],\n",
       "   u'5sigma': [0.3076029122560007, 29.74228174215619],\n",
       "   u'median': 15.099906163545292,\n",
       "   u'q01%': 3.908233855419855,\n",
       "   u'q10%': 6.328237628601806,\n",
       "   u'q25%': 9.076599325741553,\n",
       "   u'q75%': 16.921176402578766,\n",
       "   u'q90%': 18.11169573507845,\n",
       "   u'q99%': 21.081766321077264,\n",
       "   u'sigma': 5.038790818167318},\n",
       "  {u'1sigma': [7.280496337603432, 8.391216456829403],\n",
       "   u'2sigma': [6.273984632481076, 8.814276078217754],\n",
       "   u'3sigma': [5.349611682746807, 9.360980448947416],\n",
       "   u'5sigma': [4.433147285242973, 11.051033248088377],\n",
       "   u'median': 7.899957845358,\n",
       "   u'q01%': 5.761778142185938,\n",
       "   u'q10%': 7.038626973771357,\n",
       "   u'q25%': 7.512053019590615,\n",
       "   u'q75%': 8.24226143155073,\n",
       "   u'q90%': 8.522875099027196,\n",
       "   u'q99%': 8.930780842265385,\n",
       "   u'sigma': 0.5553600596129855},\n",
       "  {u'1sigma': [1.1801483447563286, 2.430393698573069],\n",
       "   u'2sigma': [0.28774726051002136, 3.535742256230568],\n",
       "   u'3sigma': [-0.7775662637502111, 5.227627912400339],\n",
       "   u'5sigma': [-2.0542147066658862, 8.949285352924583],\n",
       "   u'median': 1.7304275060590897,\n",
       "   u'q01%': -0.1590298225505496,\n",
       "   u'q10%': 0.9875558209527385,\n",
       "   u'q25%': 1.3740962030796844,\n",
       "   u'q75%': 2.190493027016721,\n",
       "   u'q90%': 2.6785641121225305,\n",
       "   u'q99%': 4.170823784074102,\n",
       "   u'sigma': 0.6251226769083703}],\n",
       " u'modes': [{u'index': 0,\n",
       "   u'local log-evidence': -21.35197536909252,\n",
       "   u'local log-evidence error': 0.29629325331024037,\n",
       "   u'maximum': [7.326995753762864,\n",
       "    44.27142514476547,\n",
       "    5.380540259184016,\n",
       "    0.027079042378868934,\n",
       "    2.805147717989409,\n",
       "    10.914457289303712,\n",
       "    7.808251718679545,\n",
       "    1.6337145808548659],\n",
       "   u'maximum a posterior': [7.326995753762864,\n",
       "    44.27142514476547,\n",
       "    5.380540259184016,\n",
       "    0.027079042378868934,\n",
       "    2.805147717989409,\n",
       "    10.914457289303712,\n",
       "    7.808251718679545,\n",
       "    1.6337145808548659],\n",
       "   u'mean': [4.415289672124618,\n",
       "    41.838703814201615,\n",
       "    9.505319137337345,\n",
       "    0.8149091774595072,\n",
       "    4.883331335674011,\n",
       "    13.420249579320979,\n",
       "    7.824179941708439,\n",
       "    1.8017433292644427],\n",
       "   u'sigma': [1.1099382684140373,\n",
       "    4.3856860276816985,\n",
       "    3.156659689712046,\n",
       "    2.9383770372875118,\n",
       "    1.5115275012497575,\n",
       "    4.565195925353182,\n",
       "    0.6259015686038463,\n",
       "    0.7634982058532345],\n",
       "   u'strictly local log-evidence': -21.35197536909252,\n",
       "   u'strictly local log-evidence error': 0.2962932533102404}],\n",
       " u'nested sampling global log-evidence': -21.35197536909252,\n",
       " u'nested sampling global log-evidence error': 0.29629325331024037}"
      ]
     },
     "execution_count": 42,
     "metadata": {},
     "output_type": "execute_result"
    }
   ],
   "source": [
    "res.get_stats()"
   ]
  },
  {
   "cell_type": "code",
   "execution_count": null,
   "metadata": {},
   "outputs": [],
   "source": []
  }
 ],
 "metadata": {
  "kernelspec": {
   "display_name": "Python 2",
   "language": "python",
   "name": "python2"
  },
  "language_info": {
   "codemirror_mode": {
    "name": "ipython",
    "version": 2
   },
   "file_extension": ".py",
   "mimetype": "text/x-python",
   "name": "python",
   "nbconvert_exporter": "python",
   "pygments_lexer": "ipython2",
   "version": "2.7.16"
  }
 },
 "nbformat": 4,
 "nbformat_minor": 2
}
